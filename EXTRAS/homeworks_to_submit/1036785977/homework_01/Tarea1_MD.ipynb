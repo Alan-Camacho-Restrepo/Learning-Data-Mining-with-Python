{
  "nbformat": 4,
  "nbformat_minor": 0,
  "metadata": {
    "colab": {
      "name": "Tarea1-MD.ipynb",
      "provenance": []
    },
    "kernelspec": {
      "name": "python3",
      "display_name": "Python 3"
    },
    "language_info": {
      "name": "python"
    }
  },
  "cells": [
    {
      "cell_type": "markdown",
      "source": [
        "## Solución Tarea 1\n",
        "## Santiago Ruiz Piedrahita"
      ],
      "metadata": {
        "id": "6GvVSo8DAzXr"
      }
    },
    {
      "cell_type": "markdown",
      "source": [
        "# 1) Adjuntamos el archivo txt del libro"
      ],
      "metadata": {
        "id": "mLngDneMBaqj"
      }
    },
    {
      "cell_type": "code",
      "execution_count": 135,
      "metadata": {
        "colab": {
          "base_uri": "https://localhost:8080/"
        },
        "id": "6kaUhyuU_8fQ",
        "outputId": "c5a30c51-4c9e-4056-967c-916515807c8d"
      },
      "outputs": [
        {
          "output_type": "stream",
          "name": "stdout",
          "text": [
            "<class 'str'>\n"
          ]
        }
      ],
      "source": [
        "from urllib.request import urlopen\n",
        "contents = urlopen(\"https://www.gutenberg.org/files/76/76-0.txt\").read().decode('utf-8')\n",
        "print(type(contents))"
      ]
    },
    {
      "cell_type": "code",
      "source": [
        "# Descomentar para visualizar el txt\n",
        "# contents"
      ],
      "metadata": {
        "id": "2zfJA4U_AD7D"
      },
      "execution_count": 158,
      "outputs": []
    },
    {
      "cell_type": "markdown",
      "source": [
        "# a) Analice el libro contando la aparición de tres nombres de personajes principales: Jim, Tom, Huck a través de los capítulos del libro."
      ],
      "metadata": {
        "id": "QmNwoV8_BGp7"
      }
    },
    {
      "cell_type": "code",
      "source": [
        "# Numero de caracteres totales\n",
        "len(contents)"
      ],
      "metadata": {
        "colab": {
          "base_uri": "https://localhost:8080/"
        },
        "id": "LzegQSuNAgyM",
        "outputId": "5f550069-3d9d-4393-c9cb-568f5b9a41d8"
      },
      "execution_count": 137,
      "outputs": [
        {
          "output_type": "execute_result",
          "data": {
            "text/plain": [
              "603838"
            ]
          },
          "metadata": {},
          "execution_count": 137
        }
      ]
    },
    {
      "cell_type": "markdown",
      "source": [
        "Necesitamos sacar los capitulos por aparte, y asi contar los nombres mas facilmente, como el string \"CHAPTER I\" aparece al principio lo tenemos que contar la segunda vez que aparece, eliminemos esa parte del texto.  "
      ],
      "metadata": {
        "id": "DqfY9PAdEsnU"
      }
    },
    {
      "cell_type": "code",
      "source": [
        "lastvalor = contents.find(\"CHAPTER THE LAST\")\n",
        "lastvalor"
      ],
      "metadata": {
        "colab": {
          "base_uri": "https://localhost:8080/"
        },
        "id": "ttq9u7sfGFIk",
        "outputId": "b804b88e-1c29-45b0-fa38-33784cebb259"
      },
      "execution_count": 138,
      "outputs": [
        {
          "output_type": "execute_result",
          "data": {
            "text/plain": [
              "4992"
            ]
          },
          "metadata": {},
          "execution_count": 138
        }
      ]
    },
    {
      "cell_type": "code",
      "source": [
        "text = contents[lastvalor+len(\"CHAPTER THE LAST\"):-1]\n"
      ],
      "metadata": {
        "id": "aIlwicHUGRcp"
      },
      "execution_count": 139,
      "outputs": []
    },
    {
      "cell_type": "code",
      "source": [
        "# Posicion de todos los capitulos\n",
        "valor1 = text.find(\"CHAPTER I\")\n",
        "valor2 = text.find(\"CHAPTER II\")\n",
        "valor3 = text.find(\"CHAPTER III\")\n",
        "valor4 = text.find(\"CHAPTER IV\")\n",
        "valor5 = text.find(\"CHAPTER V\")\n",
        "valor6= text.find(\"CHAPTER VI\")\n",
        "valor7 = text.find(\"CHAPTER VII\")\n",
        "valor8 = text.find(\"CHAPTER VIII\")\n",
        "valor9 = text.find(\"CHAPTER IX\")\n",
        "valor10 = text.find(\"CHAPTER X\")\n",
        "valor11 = text.find(\"CHAPTER XI\")\n",
        "valor12 = text.find(\"CHAPTER XII\")\n",
        "valor13 = text.find(\"CHAPTER XIII\")\n",
        "valor14 = text.find(\"CHAPTER XIV\")\n",
        "valor15 = text.find(\"CHAPTER XV\")\n",
        "valor16 = text.find(\"CHAPTER XVI\")\n",
        "valor17 = text.find(\"CHAPTER XVII\")\n",
        "valor18 = text.find(\"CHAPTER XVIII\")\n",
        "valor19 = text.find(\"CHAPTER XIX\")\n",
        "valor20 = text.find(\"CHAPTER XX\")\n",
        "valor21 = text.find(\"CHAPTER XXI\")\n",
        "valor22 = text.find(\"CHAPTER XXII\")\n",
        "valor23 = text.find(\"CHAPTER XXIII\")\n",
        "valor24 = text.find(\"CHAPTER XXIV\")\n",
        "valor25 = text.find(\"CHAPTER XXV\")\n",
        "valor26 = text.find(\"CHAPTER XXVI\")\n",
        "valor27 = text.find(\"CHAPTER XXVII\")\n",
        "valor28 = text.find(\"CHAPTER XXVIII\")\n",
        "valor29= text.find(\"CHAPTER XXIX\")\n",
        "valor30 = text.find(\"CHAPTER XXX\")\n",
        "valor31 = text.find(\"CHAPTER XXXI\")\n",
        "valor32 = text.find(\"CHAPTER XXXII\")\n",
        "valor33 = text.find(\"CHAPTER XXXIII\")\n",
        "valor34 = text.find(\"CHAPTER XXXIV\")\n",
        "valor35 = text.find(\"CHAPTER XXXV\")\n",
        "valor36 = text.find(\"CHAPTER XXXVI\")\n",
        "valor37 = text.find(\"CHAPTER XXXVII\")\n",
        "valor38 = text.find(\"CHAPTER XXXVIII\")\n",
        "valor39 = text.find(\"CHAPTER XXXIX\")\n",
        "valor40 = text.find(\"CHAPTER XL\")\n",
        "valor41 = text.find(\"CHAPTER XLI\")\n",
        "valor42 = text.find(\"CHAPTER XLII\")\n",
        "valorlast = text.find(\"CHAPTER THE LAST\")\n",
        "valorend = text.find(\"THE END\")"
      ],
      "metadata": {
        "id": "o8CTCuU0CR_A"
      },
      "execution_count": 140,
      "outputs": []
    },
    {
      "cell_type": "markdown",
      "source": [
        "Ahora que tenemos las posiciones saquemos los capitulos"
      ],
      "metadata": {
        "id": "mODapdTDJIy7"
      }
    },
    {
      "cell_type": "code",
      "source": [
        "# capitulos\n",
        "cap1 = text[valor1:valor2]\n",
        "cap2 = text[valor2:valor3]\n",
        "cap3 = text[valor3:valor4]\n",
        "cap4 = text[valor4:valor5]\n",
        "cap5 = text[valor5:valor6]\n",
        "cap6 = text[valor6:valor7]\n",
        "cap7 = text[valor7:valor8]\n",
        "cap8 = text[valor8:valor9]\n",
        "cap9 = text[valor9:valor10]\n",
        "cap10 = text[valor10:valor11]\n",
        "cap11 = text[valor11:valor12]\n",
        "cap12 = text[valor12:valor13]\n",
        "cap13 = text[valor13:valor14]\n",
        "cap14 = text[valor14:valor15]\n",
        "cap15 = text[valor15:valor16]\n",
        "cap16 = text[valor16:valor17]\n",
        "cap17 = text[valor17:valor18]\n",
        "cap18 = text[valor18:valor19]\n",
        "cap19 = text[valor19:valor20]\n",
        "cap20 = text[valor20:valor21]\n",
        "cap21 = text[valor21:valor22]\n",
        "cap22 = text[valor22:valor23]\n",
        "cap23 = text[valor23:valor24]\n",
        "cap24 = text[valor24:valor25]\n",
        "cap25 = text[valor25:valor26]\n",
        "cap26 = text[valor26:valor27]\n",
        "cap27 = text[valor27:valor28]\n",
        "cap28 = text[valor28:valor29]\n",
        "cap29 = text[valor29:valor30]\n",
        "cap30 = text[valor30:valor31]\n",
        "cap31 = text[valor31:valor32]\n",
        "cap32 = text[valor32:valor33]\n",
        "cap33 = text[valor33:valor34]\n",
        "cap34 = text[valor34:valor35]\n",
        "cap35 = text[valor35:valor36]\n",
        "cap36 = text[valor36:valor37]\n",
        "cap37 = text[valor37:valor38]\n",
        "cap38 = text[valor38:valor39]\n",
        "cap39 = text[valor39:valor40]\n",
        "cap40 = text[valor40:valor41]\n",
        "cap41 = text[valor41:valor42]\n",
        "cap42 = text[valor42:valorlast]\n",
        "caplast = text[valorlast:valorend]"
      ],
      "metadata": {
        "id": "03EIRLjzDLki"
      },
      "execution_count": 141,
      "outputs": []
    },
    {
      "cell_type": "code",
      "source": [
        ""
      ],
      "metadata": {
        "id": "Gy5pXpRJLc6I"
      },
      "execution_count": 141,
      "outputs": []
    },
    {
      "cell_type": "markdown",
      "source": [
        "Ahora si contamos los nombres, y los incertamos de una vez en una lista:"
      ],
      "metadata": {
        "id": "VKN7yYZIKo_V"
      }
    },
    {
      "cell_type": "code",
      "source": [
        "# cuenta de Jim\n",
        "import numpy as np\n",
        "\n",
        "Jim = np.array([cap1.count(\"Jim\"),\n",
        "cap2.count(\"Jim\"),\n",
        "cap3.count(\"Jim\"),\n",
        "cap4.count(\"Jim\"),\n",
        "cap5.count(\"Jim\"),\n",
        "cap6.count(\"Jim\"),\n",
        "cap7.count(\"Jim\"),\n",
        "cap8.count(\"Jim\"),\n",
        "cap9.count(\"Jim\"),\n",
        "cap10.count(\"Jim\"),\n",
        "cap11.count(\"Jim\"),\n",
        "cap12.count(\"Jim\"),\n",
        "cap13.count(\"Jim\"),\n",
        "cap14.count(\"Jim\"),\n",
        "cap15.count(\"Jim\"),\n",
        "cap16.count(\"Jim\"),\n",
        "cap17.count(\"Jim\"),\n",
        "cap18.count(\"Jim\"),\n",
        "cap19.count(\"Jim\"),\n",
        "cap20.count(\"Jim\"),\n",
        "cap21.count(\"Jim\"),\n",
        "cap22.count(\"Jim\"),\n",
        "cap23.count(\"Jim\"),\n",
        "cap24.count(\"Jim\"),\n",
        "cap25.count(\"Jim\"),\n",
        "cap26.count(\"Jim\"),\n",
        "cap27.count(\"Jim\"),\n",
        "cap28.count(\"Jim\"),\n",
        "cap29.count(\"Jim\"),\n",
        "cap30.count(\"Jim\"),\n",
        "cap31.count(\"Jim\"),\n",
        "cap32.count(\"Jim\"),\n",
        "cap33.count(\"Jim\"),\n",
        "cap34.count(\"Jim\"),\n",
        "cap35.count(\"Jim\"),\n",
        "cap36.count(\"Jim\"),\n",
        "cap37.count(\"Jim\"),\n",
        "cap38.count(\"Jim\"),\n",
        "cap39.count(\"Jim\"),\n",
        "cap40.count(\"Jim\"),\n",
        "cap41.count(\"Jim\"),\n",
        "cap42.count(\"Jim\"),\n",
        "caplast.count(\"Jim\")\n",
        "])"
      ],
      "metadata": {
        "id": "S5_-eUKiHNHZ"
      },
      "execution_count": 142,
      "outputs": []
    },
    {
      "cell_type": "code",
      "source": [
        "Jim"
      ],
      "metadata": {
        "colab": {
          "base_uri": "https://localhost:8080/"
        },
        "id": "bbjXBgVOLR7J",
        "outputId": "392204a3-b374-4084-981b-92be55002bd7"
      },
      "execution_count": 143,
      "outputs": [
        {
          "output_type": "execute_result",
          "data": {
            "text/plain": [
              "array([ 0, 16,  0,  8,  0,  0,  0, 22, 11, 19,  4, 20,  9,  6, 16, 28,  0,\n",
              "       10, 13, 18,  1,  0,  9,  5,  0,  0,  0,  1,  3,  5, 17,  0,  5, 17,\n",
              "       18, 23,  4, 27, 10, 13,  0, 12,  6])"
            ]
          },
          "metadata": {},
          "execution_count": 143
        }
      ]
    },
    {
      "cell_type": "code",
      "source": [
        "# cuenta de Tom\n",
        "\n",
        "Tom = np.array([cap1.count(\"Tom\"),\n",
        "cap2.count(\"Tom\"),\n",
        "cap3.count(\"Tom\"),\n",
        "cap4.count(\"Tom\"),\n",
        "cap5.count(\"Tom\"),\n",
        "cap6.count(\"Tom\"),\n",
        "cap7.count(\"Tom\"),\n",
        "cap8.count(\"Tom\"),\n",
        "cap9.count(\"Tom\"),\n",
        "cap10.count(\"Tom\"),\n",
        "cap11.count(\"Tom\"),\n",
        "cap12.count(\"Tom\"),\n",
        "cap13.count(\"Tom\"),\n",
        "cap14.count(\"Tom\"),\n",
        "cap15.count(\"Tom\"),\n",
        "cap16.count(\"Tom\"),\n",
        "cap17.count(\"Tom\"),\n",
        "cap18.count(\"Tom\"),\n",
        "cap19.count(\"Tom\"),\n",
        "cap20.count(\"Tom\"),\n",
        "cap21.count(\"Tom\"),\n",
        "cap22.count(\"Tom\"),\n",
        "cap23.count(\"Tom\"),\n",
        "cap24.count(\"Tom\"),\n",
        "cap25.count(\"Tom\"),\n",
        "cap26.count(\"Tom\"),\n",
        "cap27.count(\"Tom\"),\n",
        "cap28.count(\"Tom\"),\n",
        "cap29.count(\"Tom\"),\n",
        "cap30.count(\"Tom\"),\n",
        "cap31.count(\"Tom\"),\n",
        "cap32.count(\"Tom\"),\n",
        "cap33.count(\"Tom\"),\n",
        "cap34.count(\"Tom\"),\n",
        "cap35.count(\"Tom\"),\n",
        "cap36.count(\"Tom\"),\n",
        "cap37.count(\"Tom\"),\n",
        "cap38.count(\"Tom\"),\n",
        "cap39.count(\"Tom\"),\n",
        "cap40.count(\"Tom\"),\n",
        "cap41.count(\"Tom\"),\n",
        "cap42.count(\"Tom\"),\n",
        "caplast.count(\"Tom\")\n",
        "])"
      ],
      "metadata": {
        "id": "Ddqa_by5Lu4O"
      },
      "execution_count": 144,
      "outputs": []
    },
    {
      "cell_type": "code",
      "source": [
        "Tom"
      ],
      "metadata": {
        "colab": {
          "base_uri": "https://localhost:8080/"
        },
        "id": "JyXZaHUkMXK5",
        "outputId": "3638bf42-32dc-48de-e561-7f350394c551"
      },
      "execution_count": 145,
      "outputs": [
        {
          "output_type": "execute_result",
          "data": {
            "text/plain": [
              "array([ 6, 24,  5,  0,  0,  0,  2,  2,  0,  0,  2,  3,  1,  0,  0,  0,  3,\n",
              "        5,  0,  0,  0,  0,  0,  0,  0,  0,  0,  1,  0,  0,  1,  4, 19, 15,\n",
              "       14, 18,  9, 32, 11, 11,  8, 30,  6])"
            ]
          },
          "metadata": {},
          "execution_count": 145
        }
      ]
    },
    {
      "cell_type": "code",
      "source": [
        "# cuenta de Huck\n",
        "\n",
        "Huck = np.array([cap1.count(\"Huck\"),\n",
        "cap2.count(\"Huck\"),\n",
        "cap3.count(\"Huck\"),\n",
        "cap4.count(\"Huck\"),\n",
        "cap5.count(\"Huck\"),\n",
        "cap6.count(\"Huck\"),\n",
        "cap7.count(\"Huck\"),\n",
        "cap8.count(\"Huck\"),\n",
        "cap9.count(\"Huck\"),\n",
        "cap10.count(\"Huck\"),\n",
        "cap11.count(\"Huck\"),\n",
        "cap12.count(\"Huck\"),\n",
        "cap13.count(\"Huck\"),\n",
        "cap14.count(\"Huck\"),\n",
        "cap15.count(\"Huck\"),\n",
        "cap16.count(\"Huck\"),\n",
        "cap17.count(\"Huck\"),\n",
        "cap18.count(\"Huck\"),\n",
        "cap19.count(\"Huck\"),\n",
        "cap20.count(\"Huck\"),\n",
        "cap21.count(\"Huck\"),\n",
        "cap22.count(\"Huck\"),\n",
        "cap23.count(\"Huck\"),\n",
        "cap24.count(\"Huck\"),\n",
        "cap25.count(\"Huck\"),\n",
        "cap26.count(\"Huck\"),\n",
        "cap27.count(\"Huck\"),\n",
        "cap28.count(\"Huck\"),\n",
        "cap29.count(\"Huck\"),\n",
        "cap30.count(\"Huck\"),\n",
        "cap31.count(\"Huck\"),\n",
        "cap32.count(\"Huck\"),\n",
        "cap33.count(\"Huck\"),\n",
        "cap34.count(\"Huck\"),\n",
        "cap35.count(\"Huck\"),\n",
        "cap36.count(\"Huck\"),\n",
        "cap37.count(\"Huck\"),\n",
        "cap38.count(\"Huck\"),\n",
        "cap39.count(\"Huck\"),\n",
        "cap40.count(\"Huck\"),\n",
        "cap41.count(\"Huck\"),\n",
        "cap42.count(\"Huck\"),\n",
        "caplast.count(\"Huck\")\n",
        "])"
      ],
      "metadata": {
        "id": "gz-W5GrUOb07"
      },
      "execution_count": 146,
      "outputs": []
    },
    {
      "cell_type": "code",
      "source": [
        " Huck"
      ],
      "metadata": {
        "colab": {
          "base_uri": "https://localhost:8080/"
        },
        "id": "hmosBT2ANHIq",
        "outputId": "a63428df-ca74-48a9-8341-de4842841843"
      },
      "execution_count": 147,
      "outputs": [
        {
          "output_type": "execute_result",
          "data": {
            "text/plain": [
              "array([ 3,  2,  2,  1,  0,  2,  0,  5,  1,  0,  4,  0,  0,  5,  7, 10,  0,\n",
              "        1,  0,  1,  0,  0,  7,  1,  0,  0,  0,  0,  0,  0,  2,  0,  0,  4,\n",
              "        8,  1,  0,  2,  0,  3,  0,  2,  3])"
            ]
          },
          "metadata": {},
          "execution_count": 147
        }
      ]
    },
    {
      "cell_type": "markdown",
      "source": [
        "# b) Guarde sus resultados en un formato Pandas DataFrame para que se vea de la siguiente manera:"
      ],
      "metadata": {
        "id": "jFc0Uo5WO60k"
      }
    },
    {
      "cell_type": "code",
      "source": [
        "import pandas as pd\n",
        "names = [\"Jim\",\"Tom\",\"Huck\"]\n",
        "labels = [\"Cap 1\",\"Cap 2\",\"Cap 3\",\"Cap 4\",\"Cap 5\",\"Cap 6\",\"Cap 7\",\"Cap 8\",\"Cap 9\",\"Cap 10\",\"Cap 11\",\"Cap 12\",\"Cap 13\",\"Cap 14\",\"Cap 15\",\"Cap 16\",\"Cap 17\",\"Cap 18\",\"Cap 19\",\"Cap 20\",\"Cap 21\",\"Cap 22\",\"Cap 23\",\"Cap 24\",\"Cap 25\",\"Cap 26\",\"Cap 27\",\"Cap 28\",\"Cap 29\",\"Cap 30\",\"Cap 31\",\"Cap 32\",\"Cap 33\",\"Cap 34\",\"Cap 35\",\"Cap 36\",\"Cap 37\",\"Cap 38\",\"Cap 39\",\"Cap 40\",\"Cap 41\",\"Cap 42\",\"Cap last\"]"
      ],
      "metadata": {
        "id": "RzNcfY3FO-rG"
      },
      "execution_count": 148,
      "outputs": []
    },
    {
      "cell_type": "code",
      "source": [
        "a = pd.DataFrame({\"Name\":names})\n",
        "b = pd.DataFrame(np.array([Jim,Tom,Huck]),columns=labels)"
      ],
      "metadata": {
        "id": "rEBWVV-uO0QC"
      },
      "execution_count": 149,
      "outputs": []
    },
    {
      "cell_type": "code",
      "source": [
        "Result =  pd.concat([a, b], axis=1, join=\"inner\")"
      ],
      "metadata": {
        "id": "iM-YO6MJO5OL"
      },
      "execution_count": 150,
      "outputs": []
    },
    {
      "cell_type": "code",
      "source": [
        "Result"
      ],
      "metadata": {
        "colab": {
          "base_uri": "https://localhost:8080/",
          "height": 173
        },
        "id": "EiEDgL21R6Z0",
        "outputId": "964effbf-d0fe-4df8-bac7-3f4b53b4bdbb"
      },
      "execution_count": 151,
      "outputs": [
        {
          "output_type": "execute_result",
          "data": {
            "text/plain": [
              "   Name  Cap 1  Cap 2  Cap 3  Cap 4  Cap 5  Cap 6  Cap 7  Cap 8  Cap 9  ...  \\\n",
              "0   Jim      0     16      0      8      0      0      0     22     11  ...   \n",
              "1   Tom      6     24      5      0      0      0      2      2      0  ...   \n",
              "2  Huck      3      2      2      1      0      2      0      5      1  ...   \n",
              "\n",
              "   Cap 34  Cap 35  Cap 36  Cap 37  Cap 38  Cap 39  Cap 40  Cap 41  Cap 42  \\\n",
              "0      17      18      23       4      27      10      13       0      12   \n",
              "1      15      14      18       9      32      11      11       8      30   \n",
              "2       4       8       1       0       2       0       3       0       2   \n",
              "\n",
              "   Cap last  \n",
              "0         6  \n",
              "1         6  \n",
              "2         3  \n",
              "\n",
              "[3 rows x 44 columns]"
            ],
            "text/html": [
              "\n",
              "  <div id=\"df-34550348-f876-4880-835d-d2d4b7147137\">\n",
              "    <div class=\"colab-df-container\">\n",
              "      <div>\n",
              "<style scoped>\n",
              "    .dataframe tbody tr th:only-of-type {\n",
              "        vertical-align: middle;\n",
              "    }\n",
              "\n",
              "    .dataframe tbody tr th {\n",
              "        vertical-align: top;\n",
              "    }\n",
              "\n",
              "    .dataframe thead th {\n",
              "        text-align: right;\n",
              "    }\n",
              "</style>\n",
              "<table border=\"1\" class=\"dataframe\">\n",
              "  <thead>\n",
              "    <tr style=\"text-align: right;\">\n",
              "      <th></th>\n",
              "      <th>Name</th>\n",
              "      <th>Cap 1</th>\n",
              "      <th>Cap 2</th>\n",
              "      <th>Cap 3</th>\n",
              "      <th>Cap 4</th>\n",
              "      <th>Cap 5</th>\n",
              "      <th>Cap 6</th>\n",
              "      <th>Cap 7</th>\n",
              "      <th>Cap 8</th>\n",
              "      <th>Cap 9</th>\n",
              "      <th>...</th>\n",
              "      <th>Cap 34</th>\n",
              "      <th>Cap 35</th>\n",
              "      <th>Cap 36</th>\n",
              "      <th>Cap 37</th>\n",
              "      <th>Cap 38</th>\n",
              "      <th>Cap 39</th>\n",
              "      <th>Cap 40</th>\n",
              "      <th>Cap 41</th>\n",
              "      <th>Cap 42</th>\n",
              "      <th>Cap last</th>\n",
              "    </tr>\n",
              "  </thead>\n",
              "  <tbody>\n",
              "    <tr>\n",
              "      <th>0</th>\n",
              "      <td>Jim</td>\n",
              "      <td>0</td>\n",
              "      <td>16</td>\n",
              "      <td>0</td>\n",
              "      <td>8</td>\n",
              "      <td>0</td>\n",
              "      <td>0</td>\n",
              "      <td>0</td>\n",
              "      <td>22</td>\n",
              "      <td>11</td>\n",
              "      <td>...</td>\n",
              "      <td>17</td>\n",
              "      <td>18</td>\n",
              "      <td>23</td>\n",
              "      <td>4</td>\n",
              "      <td>27</td>\n",
              "      <td>10</td>\n",
              "      <td>13</td>\n",
              "      <td>0</td>\n",
              "      <td>12</td>\n",
              "      <td>6</td>\n",
              "    </tr>\n",
              "    <tr>\n",
              "      <th>1</th>\n",
              "      <td>Tom</td>\n",
              "      <td>6</td>\n",
              "      <td>24</td>\n",
              "      <td>5</td>\n",
              "      <td>0</td>\n",
              "      <td>0</td>\n",
              "      <td>0</td>\n",
              "      <td>2</td>\n",
              "      <td>2</td>\n",
              "      <td>0</td>\n",
              "      <td>...</td>\n",
              "      <td>15</td>\n",
              "      <td>14</td>\n",
              "      <td>18</td>\n",
              "      <td>9</td>\n",
              "      <td>32</td>\n",
              "      <td>11</td>\n",
              "      <td>11</td>\n",
              "      <td>8</td>\n",
              "      <td>30</td>\n",
              "      <td>6</td>\n",
              "    </tr>\n",
              "    <tr>\n",
              "      <th>2</th>\n",
              "      <td>Huck</td>\n",
              "      <td>3</td>\n",
              "      <td>2</td>\n",
              "      <td>2</td>\n",
              "      <td>1</td>\n",
              "      <td>0</td>\n",
              "      <td>2</td>\n",
              "      <td>0</td>\n",
              "      <td>5</td>\n",
              "      <td>1</td>\n",
              "      <td>...</td>\n",
              "      <td>4</td>\n",
              "      <td>8</td>\n",
              "      <td>1</td>\n",
              "      <td>0</td>\n",
              "      <td>2</td>\n",
              "      <td>0</td>\n",
              "      <td>3</td>\n",
              "      <td>0</td>\n",
              "      <td>2</td>\n",
              "      <td>3</td>\n",
              "    </tr>\n",
              "  </tbody>\n",
              "</table>\n",
              "<p>3 rows × 44 columns</p>\n",
              "</div>\n",
              "      <button class=\"colab-df-convert\" onclick=\"convertToInteractive('df-34550348-f876-4880-835d-d2d4b7147137')\"\n",
              "              title=\"Convert this dataframe to an interactive table.\"\n",
              "              style=\"display:none;\">\n",
              "        \n",
              "  <svg xmlns=\"http://www.w3.org/2000/svg\" height=\"24px\"viewBox=\"0 0 24 24\"\n",
              "       width=\"24px\">\n",
              "    <path d=\"M0 0h24v24H0V0z\" fill=\"none\"/>\n",
              "    <path d=\"M18.56 5.44l.94 2.06.94-2.06 2.06-.94-2.06-.94-.94-2.06-.94 2.06-2.06.94zm-11 1L8.5 8.5l.94-2.06 2.06-.94-2.06-.94L8.5 2.5l-.94 2.06-2.06.94zm10 10l.94 2.06.94-2.06 2.06-.94-2.06-.94-.94-2.06-.94 2.06-2.06.94z\"/><path d=\"M17.41 7.96l-1.37-1.37c-.4-.4-.92-.59-1.43-.59-.52 0-1.04.2-1.43.59L10.3 9.45l-7.72 7.72c-.78.78-.78 2.05 0 2.83L4 21.41c.39.39.9.59 1.41.59.51 0 1.02-.2 1.41-.59l7.78-7.78 2.81-2.81c.8-.78.8-2.07 0-2.86zM5.41 20L4 18.59l7.72-7.72 1.47 1.35L5.41 20z\"/>\n",
              "  </svg>\n",
              "      </button>\n",
              "      \n",
              "  <style>\n",
              "    .colab-df-container {\n",
              "      display:flex;\n",
              "      flex-wrap:wrap;\n",
              "      gap: 12px;\n",
              "    }\n",
              "\n",
              "    .colab-df-convert {\n",
              "      background-color: #E8F0FE;\n",
              "      border: none;\n",
              "      border-radius: 50%;\n",
              "      cursor: pointer;\n",
              "      display: none;\n",
              "      fill: #1967D2;\n",
              "      height: 32px;\n",
              "      padding: 0 0 0 0;\n",
              "      width: 32px;\n",
              "    }\n",
              "\n",
              "    .colab-df-convert:hover {\n",
              "      background-color: #E2EBFA;\n",
              "      box-shadow: 0px 1px 2px rgba(60, 64, 67, 0.3), 0px 1px 3px 1px rgba(60, 64, 67, 0.15);\n",
              "      fill: #174EA6;\n",
              "    }\n",
              "\n",
              "    [theme=dark] .colab-df-convert {\n",
              "      background-color: #3B4455;\n",
              "      fill: #D2E3FC;\n",
              "    }\n",
              "\n",
              "    [theme=dark] .colab-df-convert:hover {\n",
              "      background-color: #434B5C;\n",
              "      box-shadow: 0px 1px 3px 1px rgba(0, 0, 0, 0.15);\n",
              "      filter: drop-shadow(0px 1px 2px rgba(0, 0, 0, 0.3));\n",
              "      fill: #FFFFFF;\n",
              "    }\n",
              "  </style>\n",
              "\n",
              "      <script>\n",
              "        const buttonEl =\n",
              "          document.querySelector('#df-34550348-f876-4880-835d-d2d4b7147137 button.colab-df-convert');\n",
              "        buttonEl.style.display =\n",
              "          google.colab.kernel.accessAllowed ? 'block' : 'none';\n",
              "\n",
              "        async function convertToInteractive(key) {\n",
              "          const element = document.querySelector('#df-34550348-f876-4880-835d-d2d4b7147137');\n",
              "          const dataTable =\n",
              "            await google.colab.kernel.invokeFunction('convertToInteractive',\n",
              "                                                     [key], {});\n",
              "          if (!dataTable) return;\n",
              "\n",
              "          const docLinkHtml = 'Like what you see? Visit the ' +\n",
              "            '<a target=\"_blank\" href=https://colab.research.google.com/notebooks/data_table.ipynb>data table notebook</a>'\n",
              "            + ' to learn more about interactive tables.';\n",
              "          element.innerHTML = '';\n",
              "          dataTable['output_type'] = 'display_data';\n",
              "          await google.colab.output.renderOutput(dataTable, element);\n",
              "          const docLink = document.createElement('div');\n",
              "          docLink.innerHTML = docLinkHtml;\n",
              "          element.appendChild(docLink);\n",
              "        }\n",
              "      </script>\n",
              "    </div>\n",
              "  </div>\n",
              "  "
            ]
          },
          "metadata": {},
          "execution_count": 151
        }
      ]
    },
    {
      "cell_type": "markdown",
      "source": [
        "# c) Exporte la tabla a un archivo CSV."
      ],
      "metadata": {
        "id": "wtNtqS8vS2zQ"
      }
    },
    {
      "cell_type": "code",
      "source": [
        "Result.to_csv(\"Resultados.csv\")"
      ],
      "metadata": {
        "id": "7yN-IAZVR69V"
      },
      "execution_count": 152,
      "outputs": []
    },
    {
      "cell_type": "markdown",
      "source": [
        "# d) Importe el archivo CSV guardado usando Pandas y haga un gráfico de la ocurrencia acumulada (cumsum) de los caracteres."
      ],
      "metadata": {
        "id": "yCeal7g8TjMr"
      }
    },
    {
      "cell_type": "code",
      "source": [
        "NewResult = pd.read_csv(\"Resultados.csv\")"
      ],
      "metadata": {
        "id": "QjFR3ZIyTGua"
      },
      "execution_count": 153,
      "outputs": []
    },
    {
      "cell_type": "code",
      "source": [
        "NewResult"
      ],
      "metadata": {
        "colab": {
          "base_uri": "https://localhost:8080/",
          "height": 173
        },
        "id": "KcnK9ivdTwQZ",
        "outputId": "c066246d-7ae4-4688-840e-860f5be8a819"
      },
      "execution_count": 154,
      "outputs": [
        {
          "output_type": "execute_result",
          "data": {
            "text/plain": [
              "   Unnamed: 0  Name  Cap 1  Cap 2  Cap 3  Cap 4  Cap 5  Cap 6  Cap 7  Cap 8  \\\n",
              "0           0   Jim      0     16      0      8      0      0      0     22   \n",
              "1           1   Tom      6     24      5      0      0      0      2      2   \n",
              "2           2  Huck      3      2      2      1      0      2      0      5   \n",
              "\n",
              "   ...  Cap 34  Cap 35  Cap 36  Cap 37  Cap 38  Cap 39  Cap 40  Cap 41  \\\n",
              "0  ...      17      18      23       4      27      10      13       0   \n",
              "1  ...      15      14      18       9      32      11      11       8   \n",
              "2  ...       4       8       1       0       2       0       3       0   \n",
              "\n",
              "   Cap 42  Cap last  \n",
              "0      12         6  \n",
              "1      30         6  \n",
              "2       2         3  \n",
              "\n",
              "[3 rows x 45 columns]"
            ],
            "text/html": [
              "\n",
              "  <div id=\"df-b6fe7b2d-3f9c-43a7-ae63-87c652ed75ad\">\n",
              "    <div class=\"colab-df-container\">\n",
              "      <div>\n",
              "<style scoped>\n",
              "    .dataframe tbody tr th:only-of-type {\n",
              "        vertical-align: middle;\n",
              "    }\n",
              "\n",
              "    .dataframe tbody tr th {\n",
              "        vertical-align: top;\n",
              "    }\n",
              "\n",
              "    .dataframe thead th {\n",
              "        text-align: right;\n",
              "    }\n",
              "</style>\n",
              "<table border=\"1\" class=\"dataframe\">\n",
              "  <thead>\n",
              "    <tr style=\"text-align: right;\">\n",
              "      <th></th>\n",
              "      <th>Unnamed: 0</th>\n",
              "      <th>Name</th>\n",
              "      <th>Cap 1</th>\n",
              "      <th>Cap 2</th>\n",
              "      <th>Cap 3</th>\n",
              "      <th>Cap 4</th>\n",
              "      <th>Cap 5</th>\n",
              "      <th>Cap 6</th>\n",
              "      <th>Cap 7</th>\n",
              "      <th>Cap 8</th>\n",
              "      <th>...</th>\n",
              "      <th>Cap 34</th>\n",
              "      <th>Cap 35</th>\n",
              "      <th>Cap 36</th>\n",
              "      <th>Cap 37</th>\n",
              "      <th>Cap 38</th>\n",
              "      <th>Cap 39</th>\n",
              "      <th>Cap 40</th>\n",
              "      <th>Cap 41</th>\n",
              "      <th>Cap 42</th>\n",
              "      <th>Cap last</th>\n",
              "    </tr>\n",
              "  </thead>\n",
              "  <tbody>\n",
              "    <tr>\n",
              "      <th>0</th>\n",
              "      <td>0</td>\n",
              "      <td>Jim</td>\n",
              "      <td>0</td>\n",
              "      <td>16</td>\n",
              "      <td>0</td>\n",
              "      <td>8</td>\n",
              "      <td>0</td>\n",
              "      <td>0</td>\n",
              "      <td>0</td>\n",
              "      <td>22</td>\n",
              "      <td>...</td>\n",
              "      <td>17</td>\n",
              "      <td>18</td>\n",
              "      <td>23</td>\n",
              "      <td>4</td>\n",
              "      <td>27</td>\n",
              "      <td>10</td>\n",
              "      <td>13</td>\n",
              "      <td>0</td>\n",
              "      <td>12</td>\n",
              "      <td>6</td>\n",
              "    </tr>\n",
              "    <tr>\n",
              "      <th>1</th>\n",
              "      <td>1</td>\n",
              "      <td>Tom</td>\n",
              "      <td>6</td>\n",
              "      <td>24</td>\n",
              "      <td>5</td>\n",
              "      <td>0</td>\n",
              "      <td>0</td>\n",
              "      <td>0</td>\n",
              "      <td>2</td>\n",
              "      <td>2</td>\n",
              "      <td>...</td>\n",
              "      <td>15</td>\n",
              "      <td>14</td>\n",
              "      <td>18</td>\n",
              "      <td>9</td>\n",
              "      <td>32</td>\n",
              "      <td>11</td>\n",
              "      <td>11</td>\n",
              "      <td>8</td>\n",
              "      <td>30</td>\n",
              "      <td>6</td>\n",
              "    </tr>\n",
              "    <tr>\n",
              "      <th>2</th>\n",
              "      <td>2</td>\n",
              "      <td>Huck</td>\n",
              "      <td>3</td>\n",
              "      <td>2</td>\n",
              "      <td>2</td>\n",
              "      <td>1</td>\n",
              "      <td>0</td>\n",
              "      <td>2</td>\n",
              "      <td>0</td>\n",
              "      <td>5</td>\n",
              "      <td>...</td>\n",
              "      <td>4</td>\n",
              "      <td>8</td>\n",
              "      <td>1</td>\n",
              "      <td>0</td>\n",
              "      <td>2</td>\n",
              "      <td>0</td>\n",
              "      <td>3</td>\n",
              "      <td>0</td>\n",
              "      <td>2</td>\n",
              "      <td>3</td>\n",
              "    </tr>\n",
              "  </tbody>\n",
              "</table>\n",
              "<p>3 rows × 45 columns</p>\n",
              "</div>\n",
              "      <button class=\"colab-df-convert\" onclick=\"convertToInteractive('df-b6fe7b2d-3f9c-43a7-ae63-87c652ed75ad')\"\n",
              "              title=\"Convert this dataframe to an interactive table.\"\n",
              "              style=\"display:none;\">\n",
              "        \n",
              "  <svg xmlns=\"http://www.w3.org/2000/svg\" height=\"24px\"viewBox=\"0 0 24 24\"\n",
              "       width=\"24px\">\n",
              "    <path d=\"M0 0h24v24H0V0z\" fill=\"none\"/>\n",
              "    <path d=\"M18.56 5.44l.94 2.06.94-2.06 2.06-.94-2.06-.94-.94-2.06-.94 2.06-2.06.94zm-11 1L8.5 8.5l.94-2.06 2.06-.94-2.06-.94L8.5 2.5l-.94 2.06-2.06.94zm10 10l.94 2.06.94-2.06 2.06-.94-2.06-.94-.94-2.06-.94 2.06-2.06.94z\"/><path d=\"M17.41 7.96l-1.37-1.37c-.4-.4-.92-.59-1.43-.59-.52 0-1.04.2-1.43.59L10.3 9.45l-7.72 7.72c-.78.78-.78 2.05 0 2.83L4 21.41c.39.39.9.59 1.41.59.51 0 1.02-.2 1.41-.59l7.78-7.78 2.81-2.81c.8-.78.8-2.07 0-2.86zM5.41 20L4 18.59l7.72-7.72 1.47 1.35L5.41 20z\"/>\n",
              "  </svg>\n",
              "      </button>\n",
              "      \n",
              "  <style>\n",
              "    .colab-df-container {\n",
              "      display:flex;\n",
              "      flex-wrap:wrap;\n",
              "      gap: 12px;\n",
              "    }\n",
              "\n",
              "    .colab-df-convert {\n",
              "      background-color: #E8F0FE;\n",
              "      border: none;\n",
              "      border-radius: 50%;\n",
              "      cursor: pointer;\n",
              "      display: none;\n",
              "      fill: #1967D2;\n",
              "      height: 32px;\n",
              "      padding: 0 0 0 0;\n",
              "      width: 32px;\n",
              "    }\n",
              "\n",
              "    .colab-df-convert:hover {\n",
              "      background-color: #E2EBFA;\n",
              "      box-shadow: 0px 1px 2px rgba(60, 64, 67, 0.3), 0px 1px 3px 1px rgba(60, 64, 67, 0.15);\n",
              "      fill: #174EA6;\n",
              "    }\n",
              "\n",
              "    [theme=dark] .colab-df-convert {\n",
              "      background-color: #3B4455;\n",
              "      fill: #D2E3FC;\n",
              "    }\n",
              "\n",
              "    [theme=dark] .colab-df-convert:hover {\n",
              "      background-color: #434B5C;\n",
              "      box-shadow: 0px 1px 3px 1px rgba(0, 0, 0, 0.15);\n",
              "      filter: drop-shadow(0px 1px 2px rgba(0, 0, 0, 0.3));\n",
              "      fill: #FFFFFF;\n",
              "    }\n",
              "  </style>\n",
              "\n",
              "      <script>\n",
              "        const buttonEl =\n",
              "          document.querySelector('#df-b6fe7b2d-3f9c-43a7-ae63-87c652ed75ad button.colab-df-convert');\n",
              "        buttonEl.style.display =\n",
              "          google.colab.kernel.accessAllowed ? 'block' : 'none';\n",
              "\n",
              "        async function convertToInteractive(key) {\n",
              "          const element = document.querySelector('#df-b6fe7b2d-3f9c-43a7-ae63-87c652ed75ad');\n",
              "          const dataTable =\n",
              "            await google.colab.kernel.invokeFunction('convertToInteractive',\n",
              "                                                     [key], {});\n",
              "          if (!dataTable) return;\n",
              "\n",
              "          const docLinkHtml = 'Like what you see? Visit the ' +\n",
              "            '<a target=\"_blank\" href=https://colab.research.google.com/notebooks/data_table.ipynb>data table notebook</a>'\n",
              "            + ' to learn more about interactive tables.';\n",
              "          element.innerHTML = '';\n",
              "          dataTable['output_type'] = 'display_data';\n",
              "          await google.colab.output.renderOutput(dataTable, element);\n",
              "          const docLink = document.createElement('div');\n",
              "          docLink.innerHTML = docLinkHtml;\n",
              "          element.appendChild(docLink);\n",
              "        }\n",
              "      </script>\n",
              "    </div>\n",
              "  </div>\n",
              "  "
            ]
          },
          "metadata": {},
          "execution_count": 154
        }
      ]
    },
    {
      "cell_type": "code",
      "source": [
        "# Sacamos los datos\n",
        "NewJim = NewResult.iloc[0][2:-1]\n",
        "NewTom = NewResult.iloc[1][2:-1]\n",
        "NewHuck = NewResult.iloc[2][2:-1]"
      ],
      "metadata": {
        "id": "xrUSt8dVTxi8"
      },
      "execution_count": 155,
      "outputs": []
    },
    {
      "cell_type": "code",
      "source": [
        "DatJim=NewJim.to_numpy()\n",
        "DatTom=NewTom.to_numpy()\n",
        "DatHuck=NewHuck.to_numpy()"
      ],
      "metadata": {
        "id": "x0AxnAEPVwc8"
      },
      "execution_count": 156,
      "outputs": []
    },
    {
      "cell_type": "code",
      "source": [
        "import matplotlib.pyplot as plt\n",
        "\n",
        "plt.figure(figsize=(10,8))\n",
        "plt.plot(np.cumsum(DatJim),label=\"Jim\")\n",
        "plt.plot(np.cumsum(DatTom),label=\"Tom\")\n",
        "plt.plot(np.cumsum(DatHuck),label=\"Huck\")\n",
        "plt.title(\"Suma acumulada de la aparicion de los personajes\")\n",
        "plt.xlabel(\"Chapter\")\n",
        "plt.ylabel(\"# aparaciones\")\n",
        "plt.grid()\n",
        "plt.legend()\n",
        "plt.show()"
      ],
      "metadata": {
        "colab": {
          "base_uri": "https://localhost:8080/",
          "height": 513
        },
        "id": "ubSdlSFFUP94",
        "outputId": "b8c2e32e-42b6-492a-c7b4-6b84a3d460d2"
      },
      "execution_count": 157,
      "outputs": [
        {
          "output_type": "display_data",
          "data": {
            "text/plain": [
              "<Figure size 720x576 with 1 Axes>"
            ],
            "image/png": "[encoded data removed]"
          },
          "metadata": {
            "needs_background": "light"
          }
        }
      ]
    },
    {
      "cell_type": "code",
      "source": [
        ""
      ],
      "metadata": {
        "id": "yXwIvmK4W8WA"
      },
      "execution_count": 157,
      "outputs": []
    }
  ]
}