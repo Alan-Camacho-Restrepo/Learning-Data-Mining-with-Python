{
  "nbformat": 4,
  "nbformat_minor": 0,
  "metadata": {
    "colab": {
      "name": "TAREA_1_DATA_MINING.ipynb",
      "provenance": []
    },
    "kernelspec": {
      "name": "python3",
      "display_name": "Python 3"
    },
    "language_info": {
      "name": "python"
    }
  },
  "cells": [
    {
      "cell_type": "markdown",
      "source": [
        "#TAREA 1 DATA MINING\n",
        "- Estudiante: Jorge Luis David Mesa \n",
        "- cc: 1007322018"
      ],
      "metadata": {
        "id": "ctdbAMzvGXhe"
      }
    },
    {
      "cell_type": "code",
      "execution_count": 1,
      "metadata": {
        "id": "8FlZjN2Jibkt"
      },
      "outputs": [],
      "source": [
        "import string\n",
        "import numpy as np\n",
        "import matplotlib.pyplot as plt\n",
        "import pandas as pd\n",
        "\n",
        "from urllib.request import urlopen\n",
        "contents = urlopen(\"https://www.gutenberg.org/files/76/76-0.txt\").read().decode('utf-8')"
      ]
    },
    {
      "cell_type": "markdown",
      "source": [
        "a) Analice el libro contando la aparición de tres nombres de personajes principales: Jim, Tom, Huck a través de los capítulos del libro."
      ],
      "metadata": {
        "id": "v4NdgTt9GTQS"
      }
    },
    {
      "cell_type": "code",
      "source": [
        "start = contents.rfind('CHAPTER I.')\n",
        "contents = contents[start:len(contents)]\n",
        "book = contents.split('CHAPTER')\n",
        "book = book[1:]"
      ],
      "metadata": {
        "id": "jyXf2rYLim32"
      },
      "execution_count": 2,
      "outputs": []
    },
    {
      "cell_type": "code",
      "source": [
        "punct = string.punctuation\n",
        "space = string.whitespace"
      ],
      "metadata": {
        "id": "5VjlUrmFipDT"
      },
      "execution_count": 3,
      "outputs": []
    },
    {
      "cell_type": "code",
      "source": [
        "names = ['JIM', 'TOM', 'HUCK']\n",
        "\n",
        "TOM = np.zeros(len(book))\n",
        "JIM = np.zeros(len(book))\n",
        "HUCK = np.zeros(len(book))"
      ],
      "metadata": {
        "id": "96ySR_3LDwJV"
      },
      "execution_count": 4,
      "outputs": []
    },
    {
      "cell_type": "code",
      "source": [
        "for j in range(len(book)):\n",
        "  book[j] = book[j].upper()\n",
        "  for i in punct:\n",
        "    book[j] = book[j].replace(i, \"\")\n",
        "\n",
        "  for i in space:\n",
        "    book[j] = book[j].replace(i, \".\")\n",
        "\n",
        "for i in range(len(names)):\n",
        "  names[i] = '.' + names[i] + '.' "
      ],
      "metadata": {
        "id": "wXbzek07jZiN"
      },
      "execution_count": 5,
      "outputs": []
    },
    {
      "cell_type": "code",
      "source": [
        "for j in range(len(book)):\n",
        "  JIM[j] = book[j].count(names[0])\n",
        "  TOM[j] = book[j].count(names[1])\n",
        "  HUCK[j] = book[j].count(names[2])"
      ],
      "metadata": {
        "id": "jt4yQfKEm1ep"
      },
      "execution_count": 6,
      "outputs": []
    },
    {
      "cell_type": "code",
      "source": [
        "print('Apariciones JIM :',JIM)\n",
        "print('Apariciones TOM :',TOM)\n",
        "print('Apariciones HUCK :',HUCK)"
      ],
      "metadata": {
        "colab": {
          "base_uri": "https://localhost:8080/"
        },
        "id": "uqqtQV6pFDDO",
        "outputId": "9c6ebd09-356c-413f-a96a-1f4a173abfe0"
      },
      "execution_count": 49,
      "outputs": [
        {
          "output_type": "stream",
          "name": "stdout",
          "text": [
            "Apariciones JIM : [ 0. 15.  0.  8.  0.  0.  0. 13. 10. 17.  3. 17.  8.  5. 12. 21.  0.  6.\n",
            " 12. 17.  1.  0.  9.  4.  0.  0.  0.  1.  3.  5. 14.  0.  2. 14. 10. 16.\n",
            "  3. 21.  7.  9.  0. 11.  5.]\n",
            "Apariciones TOM : [ 5. 23.  5.  0.  0.  0.  2.  2.  0.  0.  2.  3.  1.  0.  0.  0.  3.  3.\n",
            "  0.  0.  0.  0.  0.  0.  0.  0.  0.  1.  0.  0.  1.  3. 16. 14. 10. 17.\n",
            "  9. 26. 11.  9.  6. 22.  5.]\n",
            "Apariciones HUCK : [0. 2. 2. 0. 0. 2. 0. 3. 1. 0. 2. 0. 0. 2. 4. 9. 0. 1. 0. 0. 0. 0. 4. 0.\n",
            " 0. 0. 0. 0. 0. 0. 2. 0. 0. 4. 7. 1. 0. 2. 0. 3. 0. 2. 2.]\n"
          ]
        }
      ]
    },
    {
      "cell_type": "markdown",
      "source": [
        "b) Guarde sus resultados en un formato Pandas DataFrame para que se vea de la siguiente manera:"
      ],
      "metadata": {
        "id": "Yf2nAyKRFsOz"
      }
    },
    {
      "cell_type": "code",
      "source": [
        "CHAPTERS = np.zeros(len(book))\n"
      ],
      "metadata": {
        "id": "h8V0XjiCP68Y"
      },
      "execution_count": 8,
      "outputs": []
    },
    {
      "cell_type": "code",
      "source": [
        "lst = list(range(1,len(book)+1))\n",
        "for j in range(len(book)):\n",
        "  lst[j] = 'CHAPTER' + ' ' + str(lst[j])\n",
        "\n",
        "\n",
        " "
      ],
      "metadata": {
        "id": "RVDFxzgtTG9h"
      },
      "execution_count": 9,
      "outputs": []
    },
    {
      "cell_type": "code",
      "source": [
        "names = ['JIM', 'TOM', 'HUCK']"
      ],
      "metadata": {
        "id": "2qjs4VtqVKwr"
      },
      "execution_count": 10,
      "outputs": []
    },
    {
      "cell_type": "code",
      "source": [
        "data = [JIM,TOM,HUCK]\n",
        "\n",
        "df = pd.DataFrame(data,columns=lst)\n",
        "df.insert(0, \"NAMES\", names, True)\n",
        "df"
      ],
      "metadata": {
        "colab": {
          "base_uri": "https://localhost:8080/",
          "height": 252
        },
        "id": "Xs_aHOf-c0Xi",
        "outputId": "9c4023d8-ff26-49ad-fceb-c1c5200c3d15"
      },
      "execution_count": 11,
      "outputs": [
        {
          "output_type": "execute_result",
          "data": {
            "text/plain": [
              "  NAMES  CHAPTER 1  CHAPTER 2  CHAPTER 3  CHAPTER 4  CHAPTER 5  CHAPTER 6  \\\n",
              "0   JIM        0.0       15.0        0.0        8.0        0.0        0.0   \n",
              "1   TOM        5.0       23.0        5.0        0.0        0.0        0.0   \n",
              "2  HUCK        0.0        2.0        2.0        0.0        0.0        2.0   \n",
              "\n",
              "   CHAPTER 7  CHAPTER 8  CHAPTER 9  ...  CHAPTER 34  CHAPTER 35  CHAPTER 36  \\\n",
              "0        0.0       13.0       10.0  ...        14.0        10.0        16.0   \n",
              "1        2.0        2.0        0.0  ...        14.0        10.0        17.0   \n",
              "2        0.0        3.0        1.0  ...         4.0         7.0         1.0   \n",
              "\n",
              "   CHAPTER 37  CHAPTER 38  CHAPTER 39  CHAPTER 40  CHAPTER 41  CHAPTER 42  \\\n",
              "0         3.0        21.0         7.0         9.0         0.0        11.0   \n",
              "1         9.0        26.0        11.0         9.0         6.0        22.0   \n",
              "2         0.0         2.0         0.0         3.0         0.0         2.0   \n",
              "\n",
              "   CHAPTER 43  \n",
              "0         5.0  \n",
              "1         5.0  \n",
              "2         2.0  \n",
              "\n",
              "[3 rows x 44 columns]"
            ],
            "text/html": [
              "\n",
              "  <div id=\"df-e7ef995f-c8ea-483a-9c5d-a11a14cc1da0\">\n",
              "    <div class=\"colab-df-container\">\n",
              "      <div>\n",
              "<style scoped>\n",
              "    .dataframe tbody tr th:only-of-type {\n",
              "        vertical-align: middle;\n",
              "    }\n",
              "\n",
              "    .dataframe tbody tr th {\n",
              "        vertical-align: top;\n",
              "    }\n",
              "\n",
              "    .dataframe thead th {\n",
              "        text-align: right;\n",
              "    }\n",
              "</style>\n",
              "<table border=\"1\" class=\"dataframe\">\n",
              "  <thead>\n",
              "    <tr style=\"text-align: right;\">\n",
              "      <th></th>\n",
              "      <th>NAMES</th>\n",
              "      <th>CHAPTER 1</th>\n",
              "      <th>CHAPTER 2</th>\n",
              "      <th>CHAPTER 3</th>\n",
              "      <th>CHAPTER 4</th>\n",
              "      <th>CHAPTER 5</th>\n",
              "      <th>CHAPTER 6</th>\n",
              "      <th>CHAPTER 7</th>\n",
              "      <th>CHAPTER 8</th>\n",
              "      <th>CHAPTER 9</th>\n",
              "      <th>...</th>\n",
              "      <th>CHAPTER 34</th>\n",
              "      <th>CHAPTER 35</th>\n",
              "      <th>CHAPTER 36</th>\n",
              "      <th>CHAPTER 37</th>\n",
              "      <th>CHAPTER 38</th>\n",
              "      <th>CHAPTER 39</th>\n",
              "      <th>CHAPTER 40</th>\n",
              "      <th>CHAPTER 41</th>\n",
              "      <th>CHAPTER 42</th>\n",
              "      <th>CHAPTER 43</th>\n",
              "    </tr>\n",
              "  </thead>\n",
              "  <tbody>\n",
              "    <tr>\n",
              "      <th>0</th>\n",
              "      <td>JIM</td>\n",
              "      <td>0.0</td>\n",
              "      <td>15.0</td>\n",
              "      <td>0.0</td>\n",
              "      <td>8.0</td>\n",
              "      <td>0.0</td>\n",
              "      <td>0.0</td>\n",
              "      <td>0.0</td>\n",
              "      <td>13.0</td>\n",
              "      <td>10.0</td>\n",
              "      <td>...</td>\n",
              "      <td>14.0</td>\n",
              "      <td>10.0</td>\n",
              "      <td>16.0</td>\n",
              "      <td>3.0</td>\n",
              "      <td>21.0</td>\n",
              "      <td>7.0</td>\n",
              "      <td>9.0</td>\n",
              "      <td>0.0</td>\n",
              "      <td>11.0</td>\n",
              "      <td>5.0</td>\n",
              "    </tr>\n",
              "    <tr>\n",
              "      <th>1</th>\n",
              "      <td>TOM</td>\n",
              "      <td>5.0</td>\n",
              "      <td>23.0</td>\n",
              "      <td>5.0</td>\n",
              "      <td>0.0</td>\n",
              "      <td>0.0</td>\n",
              "      <td>0.0</td>\n",
              "      <td>2.0</td>\n",
              "      <td>2.0</td>\n",
              "      <td>0.0</td>\n",
              "      <td>...</td>\n",
              "      <td>14.0</td>\n",
              "      <td>10.0</td>\n",
              "      <td>17.0</td>\n",
              "      <td>9.0</td>\n",
              "      <td>26.0</td>\n",
              "      <td>11.0</td>\n",
              "      <td>9.0</td>\n",
              "      <td>6.0</td>\n",
              "      <td>22.0</td>\n",
              "      <td>5.0</td>\n",
              "    </tr>\n",
              "    <tr>\n",
              "      <th>2</th>\n",
              "      <td>HUCK</td>\n",
              "      <td>0.0</td>\n",
              "      <td>2.0</td>\n",
              "      <td>2.0</td>\n",
              "      <td>0.0</td>\n",
              "      <td>0.0</td>\n",
              "      <td>2.0</td>\n",
              "      <td>0.0</td>\n",
              "      <td>3.0</td>\n",
              "      <td>1.0</td>\n",
              "      <td>...</td>\n",
              "      <td>4.0</td>\n",
              "      <td>7.0</td>\n",
              "      <td>1.0</td>\n",
              "      <td>0.0</td>\n",
              "      <td>2.0</td>\n",
              "      <td>0.0</td>\n",
              "      <td>3.0</td>\n",
              "      <td>0.0</td>\n",
              "      <td>2.0</td>\n",
              "      <td>2.0</td>\n",
              "    </tr>\n",
              "  </tbody>\n",
              "</table>\n",
              "<p>3 rows × 44 columns</p>\n",
              "</div>\n",
              "      <button class=\"colab-df-convert\" onclick=\"convertToInteractive('df-e7ef995f-c8ea-483a-9c5d-a11a14cc1da0')\"\n",
              "              title=\"Convert this dataframe to an interactive table.\"\n",
              "              style=\"display:none;\">\n",
              "        \n",
              "  <svg xmlns=\"http://www.w3.org/2000/svg\" height=\"24px\"viewBox=\"0 0 24 24\"\n",
              "       width=\"24px\">\n",
              "    <path d=\"M0 0h24v24H0V0z\" fill=\"none\"/>\n",
              "    <path d=\"M18.56 5.44l.94 2.06.94-2.06 2.06-.94-2.06-.94-.94-2.06-.94 2.06-2.06.94zm-11 1L8.5 8.5l.94-2.06 2.06-.94-2.06-.94L8.5 2.5l-.94 2.06-2.06.94zm10 10l.94 2.06.94-2.06 2.06-.94-2.06-.94-.94-2.06-.94 2.06-2.06.94z\"/><path d=\"M17.41 7.96l-1.37-1.37c-.4-.4-.92-.59-1.43-.59-.52 0-1.04.2-1.43.59L10.3 9.45l-7.72 7.72c-.78.78-.78 2.05 0 2.83L4 21.41c.39.39.9.59 1.41.59.51 0 1.02-.2 1.41-.59l7.78-7.78 2.81-2.81c.8-.78.8-2.07 0-2.86zM5.41 20L4 18.59l7.72-7.72 1.47 1.35L5.41 20z\"/>\n",
              "  </svg>\n",
              "      </button>\n",
              "      \n",
              "  <style>\n",
              "    .colab-df-container {\n",
              "      display:flex;\n",
              "      flex-wrap:wrap;\n",
              "      gap: 12px;\n",
              "    }\n",
              "\n",
              "    .colab-df-convert {\n",
              "      background-color: #E8F0FE;\n",
              "      border: none;\n",
              "      border-radius: 50%;\n",
              "      cursor: pointer;\n",
              "      display: none;\n",
              "      fill: #1967D2;\n",
              "      height: 32px;\n",
              "      padding: 0 0 0 0;\n",
              "      width: 32px;\n",
              "    }\n",
              "\n",
              "    .colab-df-convert:hover {\n",
              "      background-color: #E2EBFA;\n",
              "      box-shadow: 0px 1px 2px rgba(60, 64, 67, 0.3), 0px 1px 3px 1px rgba(60, 64, 67, 0.15);\n",
              "      fill: #174EA6;\n",
              "    }\n",
              "\n",
              "    [theme=dark] .colab-df-convert {\n",
              "      background-color: #3B4455;\n",
              "      fill: #D2E3FC;\n",
              "    }\n",
              "\n",
              "    [theme=dark] .colab-df-convert:hover {\n",
              "      background-color: #434B5C;\n",
              "      box-shadow: 0px 1px 3px 1px rgba(0, 0, 0, 0.15);\n",
              "      filter: drop-shadow(0px 1px 2px rgba(0, 0, 0, 0.3));\n",
              "      fill: #FFFFFF;\n",
              "    }\n",
              "  </style>\n",
              "\n",
              "      <script>\n",
              "        const buttonEl =\n",
              "          document.querySelector('#df-e7ef995f-c8ea-483a-9c5d-a11a14cc1da0 button.colab-df-convert');\n",
              "        buttonEl.style.display =\n",
              "          google.colab.kernel.accessAllowed ? 'block' : 'none';\n",
              "\n",
              "        async function convertToInteractive(key) {\n",
              "          const element = document.querySelector('#df-e7ef995f-c8ea-483a-9c5d-a11a14cc1da0');\n",
              "          const dataTable =\n",
              "            await google.colab.kernel.invokeFunction('convertToInteractive',\n",
              "                                                     [key], {});\n",
              "          if (!dataTable) return;\n",
              "\n",
              "          const docLinkHtml = 'Like what you see? Visit the ' +\n",
              "            '<a target=\"_blank\" href=https://colab.research.google.com/notebooks/data_table.ipynb>data table notebook</a>'\n",
              "            + ' to learn more about interactive tables.';\n",
              "          element.innerHTML = '';\n",
              "          dataTable['output_type'] = 'display_data';\n",
              "          await google.colab.output.renderOutput(dataTable, element);\n",
              "          const docLink = document.createElement('div');\n",
              "          docLink.innerHTML = docLinkHtml;\n",
              "          element.appendChild(docLink);\n",
              "        }\n",
              "      </script>\n",
              "    </div>\n",
              "  </div>\n",
              "  "
            ]
          },
          "metadata": {},
          "execution_count": 11
        }
      ]
    },
    {
      "cell_type": "markdown",
      "source": [
        "c) Exporte la tabla a un archivo CSV."
      ],
      "metadata": {
        "id": "E-N2JILEFhNI"
      }
    },
    {
      "cell_type": "code",
      "source": [
        "df.to_csv('NAMES_CHAPTERS_Adventures_of_Huckleberry_Finn.csv',index=False)"
      ],
      "metadata": {
        "id": "F28pqxmCAIap"
      },
      "execution_count": 13,
      "outputs": []
    },
    {
      "cell_type": "markdown",
      "source": [
        "\n",
        "d) Importe el archivo CSV guardado usando Pandas y haga un gráfico de la ocurrencia acumulada (cumsum) de los caracteres"
      ],
      "metadata": {
        "id": "V6pNvGhQFfwD"
      }
    },
    {
      "cell_type": "code",
      "source": [
        "df1 = pd.read_csv('NAMES_CHAPTERS_Adventures_of_Huckleberry_Finn.csv')\n",
        "df1"
      ],
      "metadata": {
        "colab": {
          "base_uri": "https://localhost:8080/",
          "height": 252
        },
        "id": "IXNQ-yqFBLRE",
        "outputId": "1a686cbd-7cee-49f0-a898-43814e222289"
      },
      "execution_count": 14,
      "outputs": [
        {
          "output_type": "execute_result",
          "data": {
            "text/plain": [
              "  NAMES  CHAPTER 1  CHAPTER 2  CHAPTER 3  CHAPTER 4  CHAPTER 5  CHAPTER 6  \\\n",
              "0   JIM        0.0       15.0        0.0        8.0        0.0        0.0   \n",
              "1   TOM        5.0       23.0        5.0        0.0        0.0        0.0   \n",
              "2  HUCK        0.0        2.0        2.0        0.0        0.0        2.0   \n",
              "\n",
              "   CHAPTER 7  CHAPTER 8  CHAPTER 9  ...  CHAPTER 34  CHAPTER 35  CHAPTER 36  \\\n",
              "0        0.0       13.0       10.0  ...        14.0        10.0        16.0   \n",
              "1        2.0        2.0        0.0  ...        14.0        10.0        17.0   \n",
              "2        0.0        3.0        1.0  ...         4.0         7.0         1.0   \n",
              "\n",
              "   CHAPTER 37  CHAPTER 38  CHAPTER 39  CHAPTER 40  CHAPTER 41  CHAPTER 42  \\\n",
              "0         3.0        21.0         7.0         9.0         0.0        11.0   \n",
              "1         9.0        26.0        11.0         9.0         6.0        22.0   \n",
              "2         0.0         2.0         0.0         3.0         0.0         2.0   \n",
              "\n",
              "   CHAPTER 43  \n",
              "0         5.0  \n",
              "1         5.0  \n",
              "2         2.0  \n",
              "\n",
              "[3 rows x 44 columns]"
            ],
            "text/html": [
              "\n",
              "  <div id=\"df-d36aa059-f362-4293-84f0-e3a9b3b9a19a\">\n",
              "    <div class=\"colab-df-container\">\n",
              "      <div>\n",
              "<style scoped>\n",
              "    .dataframe tbody tr th:only-of-type {\n",
              "        vertical-align: middle;\n",
              "    }\n",
              "\n",
              "    .dataframe tbody tr th {\n",
              "        vertical-align: top;\n",
              "    }\n",
              "\n",
              "    .dataframe thead th {\n",
              "        text-align: right;\n",
              "    }\n",
              "</style>\n",
              "<table border=\"1\" class=\"dataframe\">\n",
              "  <thead>\n",
              "    <tr style=\"text-align: right;\">\n",
              "      <th></th>\n",
              "      <th>NAMES</th>\n",
              "      <th>CHAPTER 1</th>\n",
              "      <th>CHAPTER 2</th>\n",
              "      <th>CHAPTER 3</th>\n",
              "      <th>CHAPTER 4</th>\n",
              "      <th>CHAPTER 5</th>\n",
              "      <th>CHAPTER 6</th>\n",
              "      <th>CHAPTER 7</th>\n",
              "      <th>CHAPTER 8</th>\n",
              "      <th>CHAPTER 9</th>\n",
              "      <th>...</th>\n",
              "      <th>CHAPTER 34</th>\n",
              "      <th>CHAPTER 35</th>\n",
              "      <th>CHAPTER 36</th>\n",
              "      <th>CHAPTER 37</th>\n",
              "      <th>CHAPTER 38</th>\n",
              "      <th>CHAPTER 39</th>\n",
              "      <th>CHAPTER 40</th>\n",
              "      <th>CHAPTER 41</th>\n",
              "      <th>CHAPTER 42</th>\n",
              "      <th>CHAPTER 43</th>\n",
              "    </tr>\n",
              "  </thead>\n",
              "  <tbody>\n",
              "    <tr>\n",
              "      <th>0</th>\n",
              "      <td>JIM</td>\n",
              "      <td>0.0</td>\n",
              "      <td>15.0</td>\n",
              "      <td>0.0</td>\n",
              "      <td>8.0</td>\n",
              "      <td>0.0</td>\n",
              "      <td>0.0</td>\n",
              "      <td>0.0</td>\n",
              "      <td>13.0</td>\n",
              "      <td>10.0</td>\n",
              "      <td>...</td>\n",
              "      <td>14.0</td>\n",
              "      <td>10.0</td>\n",
              "      <td>16.0</td>\n",
              "      <td>3.0</td>\n",
              "      <td>21.0</td>\n",
              "      <td>7.0</td>\n",
              "      <td>9.0</td>\n",
              "      <td>0.0</td>\n",
              "      <td>11.0</td>\n",
              "      <td>5.0</td>\n",
              "    </tr>\n",
              "    <tr>\n",
              "      <th>1</th>\n",
              "      <td>TOM</td>\n",
              "      <td>5.0</td>\n",
              "      <td>23.0</td>\n",
              "      <td>5.0</td>\n",
              "      <td>0.0</td>\n",
              "      <td>0.0</td>\n",
              "      <td>0.0</td>\n",
              "      <td>2.0</td>\n",
              "      <td>2.0</td>\n",
              "      <td>0.0</td>\n",
              "      <td>...</td>\n",
              "      <td>14.0</td>\n",
              "      <td>10.0</td>\n",
              "      <td>17.0</td>\n",
              "      <td>9.0</td>\n",
              "      <td>26.0</td>\n",
              "      <td>11.0</td>\n",
              "      <td>9.0</td>\n",
              "      <td>6.0</td>\n",
              "      <td>22.0</td>\n",
              "      <td>5.0</td>\n",
              "    </tr>\n",
              "    <tr>\n",
              "      <th>2</th>\n",
              "      <td>HUCK</td>\n",
              "      <td>0.0</td>\n",
              "      <td>2.0</td>\n",
              "      <td>2.0</td>\n",
              "      <td>0.0</td>\n",
              "      <td>0.0</td>\n",
              "      <td>2.0</td>\n",
              "      <td>0.0</td>\n",
              "      <td>3.0</td>\n",
              "      <td>1.0</td>\n",
              "      <td>...</td>\n",
              "      <td>4.0</td>\n",
              "      <td>7.0</td>\n",
              "      <td>1.0</td>\n",
              "      <td>0.0</td>\n",
              "      <td>2.0</td>\n",
              "      <td>0.0</td>\n",
              "      <td>3.0</td>\n",
              "      <td>0.0</td>\n",
              "      <td>2.0</td>\n",
              "      <td>2.0</td>\n",
              "    </tr>\n",
              "  </tbody>\n",
              "</table>\n",
              "<p>3 rows × 44 columns</p>\n",
              "</div>\n",
              "      <button class=\"colab-df-convert\" onclick=\"convertToInteractive('df-d36aa059-f362-4293-84f0-e3a9b3b9a19a')\"\n",
              "              title=\"Convert this dataframe to an interactive table.\"\n",
              "              style=\"display:none;\">\n",
              "        \n",
              "  <svg xmlns=\"http://www.w3.org/2000/svg\" height=\"24px\"viewBox=\"0 0 24 24\"\n",
              "       width=\"24px\">\n",
              "    <path d=\"M0 0h24v24H0V0z\" fill=\"none\"/>\n",
              "    <path d=\"M18.56 5.44l.94 2.06.94-2.06 2.06-.94-2.06-.94-.94-2.06-.94 2.06-2.06.94zm-11 1L8.5 8.5l.94-2.06 2.06-.94-2.06-.94L8.5 2.5l-.94 2.06-2.06.94zm10 10l.94 2.06.94-2.06 2.06-.94-2.06-.94-.94-2.06-.94 2.06-2.06.94z\"/><path d=\"M17.41 7.96l-1.37-1.37c-.4-.4-.92-.59-1.43-.59-.52 0-1.04.2-1.43.59L10.3 9.45l-7.72 7.72c-.78.78-.78 2.05 0 2.83L4 21.41c.39.39.9.59 1.41.59.51 0 1.02-.2 1.41-.59l7.78-7.78 2.81-2.81c.8-.78.8-2.07 0-2.86zM5.41 20L4 18.59l7.72-7.72 1.47 1.35L5.41 20z\"/>\n",
              "  </svg>\n",
              "      </button>\n",
              "      \n",
              "  <style>\n",
              "    .colab-df-container {\n",
              "      display:flex;\n",
              "      flex-wrap:wrap;\n",
              "      gap: 12px;\n",
              "    }\n",
              "\n",
              "    .colab-df-convert {\n",
              "      background-color: #E8F0FE;\n",
              "      border: none;\n",
              "      border-radius: 50%;\n",
              "      cursor: pointer;\n",
              "      display: none;\n",
              "      fill: #1967D2;\n",
              "      height: 32px;\n",
              "      padding: 0 0 0 0;\n",
              "      width: 32px;\n",
              "    }\n",
              "\n",
              "    .colab-df-convert:hover {\n",
              "      background-color: #E2EBFA;\n",
              "      box-shadow: 0px 1px 2px rgba(60, 64, 67, 0.3), 0px 1px 3px 1px rgba(60, 64, 67, 0.15);\n",
              "      fill: #174EA6;\n",
              "    }\n",
              "\n",
              "    [theme=dark] .colab-df-convert {\n",
              "      background-color: #3B4455;\n",
              "      fill: #D2E3FC;\n",
              "    }\n",
              "\n",
              "    [theme=dark] .colab-df-convert:hover {\n",
              "      background-color: #434B5C;\n",
              "      box-shadow: 0px 1px 3px 1px rgba(0, 0, 0, 0.15);\n",
              "      filter: drop-shadow(0px 1px 2px rgba(0, 0, 0, 0.3));\n",
              "      fill: #FFFFFF;\n",
              "    }\n",
              "  </style>\n",
              "\n",
              "      <script>\n",
              "        const buttonEl =\n",
              "          document.querySelector('#df-d36aa059-f362-4293-84f0-e3a9b3b9a19a button.colab-df-convert');\n",
              "        buttonEl.style.display =\n",
              "          google.colab.kernel.accessAllowed ? 'block' : 'none';\n",
              "\n",
              "        async function convertToInteractive(key) {\n",
              "          const element = document.querySelector('#df-d36aa059-f362-4293-84f0-e3a9b3b9a19a');\n",
              "          const dataTable =\n",
              "            await google.colab.kernel.invokeFunction('convertToInteractive',\n",
              "                                                     [key], {});\n",
              "          if (!dataTable) return;\n",
              "\n",
              "          const docLinkHtml = 'Like what you see? Visit the ' +\n",
              "            '<a target=\"_blank\" href=https://colab.research.google.com/notebooks/data_table.ipynb>data table notebook</a>'\n",
              "            + ' to learn more about interactive tables.';\n",
              "          element.innerHTML = '';\n",
              "          dataTable['output_type'] = 'display_data';\n",
              "          await google.colab.output.renderOutput(dataTable, element);\n",
              "          const docLink = document.createElement('div');\n",
              "          docLink.innerHTML = docLinkHtml;\n",
              "          element.appendChild(docLink);\n",
              "        }\n",
              "      </script>\n",
              "    </div>\n",
              "  </div>\n",
              "  "
            ]
          },
          "metadata": {},
          "execution_count": 14
        }
      ]
    },
    {
      "cell_type": "code",
      "source": [
        "TOM_cumsum=np.cumsum(TOM)\n",
        "JIM_cumsum=np.cumsum(JIM)\n",
        "HUCK_cumsum=np.cumsum(HUCK)\n",
        "\n",
        "N = np.linspace(1,43,len(book))\n",
        "\n",
        "\n",
        "plt.figure(figsize=(13,6),dpi=120)\n",
        "plt.plot(N,TOM_cumsum,'o',label = 'TOM')\n",
        "plt.plot(N,JIM_cumsum,'o',label = 'JIM')\n",
        "plt.plot(N,HUCK_cumsum,'o',label = 'HUCK')\n",
        "plt.plot(N,TOM_cumsum,'k')\n",
        "plt.plot(N,JIM_cumsum,'k')\n",
        "plt.plot(N,HUCK_cumsum,'k')\n",
        "plt.xticks(N)\n",
        "plt.xlabel('CHAPTER NUMBER')\n",
        "plt.ylabel('CUMULATIVE ACCOUNT OF THE NAME')\n",
        "plt.grid()\n",
        "plt.legend()"
      ],
      "metadata": {
        "colab": {
          "base_uri": "https://localhost:8080/",
          "height": 655
        },
        "id": "J-4YeI-VBfrI",
        "outputId": "01d809a7-a537-4dd8-e08f-b97aad83d28d"
      },
      "execution_count": 42,
      "outputs": [
        {
          "output_type": "execute_result",
          "data": {
            "text/plain": [
              "<matplotlib.legend.Legend at 0x7f1aecc89810>"
            ]
          },
          "metadata": {},
          "execution_count": 42
        },
        {
          "output_type": "display_data",
          "data": {
            "text/plain": [
              "<Figure size 1560x720 with 1 Axes>"
            ],
            "image/png": "[encoded data removed]"
          },
          "metadata": {
            "needs_background": "light"
          }
        }
      ]
    }
  ]
}