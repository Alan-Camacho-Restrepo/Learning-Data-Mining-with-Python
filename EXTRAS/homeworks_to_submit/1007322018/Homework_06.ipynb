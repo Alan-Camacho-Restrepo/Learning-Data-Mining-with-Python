{
  "nbformat": 4,
  "nbformat_minor": 0,
  "metadata": {
    "colab": {
      "provenance": []
    },
    "kernelspec": {
      "name": "python3",
      "display_name": "Python 3"
    },
    "language_info": {
      "name": "python"
    }
  },
  "cells": [
    {
      "cell_type": "code",
      "execution_count": 1,
      "metadata": {
        "id": "T0OWm1-_7cnV"
      },
      "outputs": [],
      "source": [
        "import numpy as np\n",
        "import pandas as pd\n",
        "import requests\n",
        "import json"
      ]
    },
    {
      "cell_type": "markdown",
      "source": [
        "A) Use el API de institutions para extraer la lista de instituciones del país, por ejemplo: colombia"
      ],
      "metadata": {
        "id": "OwHkA-bdb0Wp"
      }
    },
    {
      "cell_type": "code",
      "source": [
        "countries = json.load(open('data_json.json'))\n",
        "random_country = np.random.choice(countries)['Name']\n",
        "random_country"
      ],
      "metadata": {
        "colab": {
          "base_uri": "https://localhost:8080/",
          "height": 36
        },
        "id": "Iuntz3P7AHxp",
        "outputId": "ba21d585-0fd4-46d7-aa82-b05a21210ff3"
      },
      "execution_count": 3,
      "outputs": [
        {
          "output_type": "execute_result",
          "data": {
            "text/plain": [
              "'Moldova, Republic of'"
            ],
            "application/vnd.google.colaboratory.intrinsic+json": {
              "type": "string"
            }
          },
          "metadata": {},
          "execution_count": 3
        }
      ]
    },
    {
      "cell_type": "code",
      "source": [
        "url = \"https://inspirehep.net/api/institutions?q={}\".format(random_country)\n",
        "institution_link = requests.get(url)\n",
        "\n",
        "legacy_ICN = [institution.get('metadata').get('legacy_ICN') if institution.get('metadata').get('number_of_papers')>0 else None for institution in institution_link.json().get('hits').get('hits')]\n",
        "\n",
        "legacy_ICN"
      ],
      "metadata": {
        "colab": {
          "base_uri": "https://localhost:8080/"
        },
        "id": "btpsyi7LAnuL",
        "outputId": "51baf004-d833-4b30-e811-57500287ca0c"
      },
      "execution_count": 4,
      "outputs": [
        {
          "output_type": "execute_result",
          "data": {
            "text/plain": [
              "['IAP, Chisinau']"
            ]
          },
          "metadata": {},
          "execution_count": 4
        }
      ]
    },
    {
      "cell_type": "markdown",
      "source": [
        "B) Con el API de literatura obtenga el JSON con los artículos de menos de 10 autores usando el \"legacy_ICN\" de la siguiente manera"
      ],
      "metadata": {
        "id": "gIWED9RQcOAB"
      }
    },
    {
      "cell_type": "code",
      "source": [
        "literature_link =\"https://inspirehep.net/api/literature?sort=mostrecent&page=1&q=aff+{}+and+ac+1->+10\".format(legacy_ICN[0].replace(' ','+'))\n",
        "literature_link = requests.get(literature_link)\n",
        "\n",
        "articles = [article.get('metadata') for article in literature_link.json().get('hits').get('hits')]\n",
        "n=len(articles)"
      ],
      "metadata": {
        "id": "q9JFvSs7B-G-"
      },
      "execution_count": 5,
      "outputs": []
    },
    {
      "cell_type": "markdown",
      "source": [
        "C) Para al menos un artículo de esa institución, extraiga el URL del perfil de cada autor de esa institución que se encuentra dentro del campo \"authors\" en \"record\" y luego en \"$ref\""
      ],
      "metadata": {
        "id": "hdlFGwEHchJc"
      }
    },
    {
      "cell_type": "code",
      "source": [
        "authors_link = [author.get('record').get('$ref') for author in articles[np.random.randint(0,n)].get('authors')]\n",
        "authors_link"
      ],
      "metadata": {
        "colab": {
          "base_uri": "https://localhost:8080/"
        },
        "id": "E1Vrt6_IDITJ",
        "outputId": "75937582-b0a5-45dc-9150-1233479fdec0"
      },
      "execution_count": 6,
      "outputs": [
        {
          "output_type": "execute_result",
          "data": {
            "text/plain": [
              "['https://inspirehep.net/api/authors/1057005',\n",
              " 'https://inspirehep.net/api/authors/1002323',\n",
              " 'https://inspirehep.net/api/authors/1049032']"
            ]
          },
          "metadata": {},
          "execution_count": 6
        }
      ]
    },
    {
      "cell_type": "markdown",
      "source": [
        "D) Con cada uno de los datos del resultado del API para cada perfil construya una tabla con los siguientes columnas (puede que alguno de los datos no esté disponible): "
      ],
      "metadata": {
        "id": "rNWgQdPxbyZk"
      }
    },
    {
      "cell_type": "code",
      "source": [
        "INF = [requests.get(i).json().get('metadata') for i in authors_link]"
      ],
      "metadata": {
        "id": "YKPieHdfjyHA"
      },
      "execution_count": 7,
      "outputs": []
    },
    {
      "cell_type": "code",
      "source": [
        "INF"
      ],
      "metadata": {
        "colab": {
          "base_uri": "https://localhost:8080/"
        },
        "id": "euFGU6y1j083",
        "outputId": "c268cde1-8718-4b80-ccb4-2459f50d001e"
      },
      "execution_count": 8,
      "outputs": [
        {
          "output_type": "execute_result",
          "data": {
            "text/plain": [
              "[{'positions': [{'record': {'$ref': 'https://inspirehep.net/api/institutions/902780'},\n",
              "    'current': True,\n",
              "    'institution': 'Dubna, JINR',\n",
              "    'curated_relation': True}],\n",
              "  'ids': [{'value': 'A.S.Khvorostukhin.1', 'schema': 'INSPIRE BAI'},\n",
              "   {'value': 'HEPNAMES-831662', 'schema': 'SPIRES'}],\n",
              "  'name': {'value': 'Khvorostukhin, A.S.',\n",
              "   'preferred_name': 'A.S. Khvorostukhin'},\n",
              "  'stub': False,\n",
              "  'status': 'active',\n",
              "  '$schema': 'https://inspirehep.net/schemas/records/authors.json',\n",
              "  'deleted': False,\n",
              "  'control_number': 1057005,\n",
              "  'legacy_version': '20150923144708.0',\n",
              "  'arxiv_categories': ['nucl-th'],\n",
              "  'legacy_creation_date': '2008-06-30'},\n",
              " {'advisors': [{'ids': [{'value': 'INSPIRE-00094246', 'schema': 'INSPIRE ID'}],\n",
              "    'name': 'Soff, Gerhard',\n",
              "    'record': {'$ref': 'https://inspirehep.net/api/authors/1003956'},\n",
              "    'degree_type': 'other'},\n",
              "   {'ids': [{'value': 'INSPIRE-00193968', 'schema': 'INSPIRE ID'}],\n",
              "    'name': 'Kampfer, Burkhard',\n",
              "    'record': {'$ref': 'https://inspirehep.net/api/authors/1020833'},\n",
              "    'degree_type': 'other'}],\n",
              "  'email_addresses': [{'value': 'e.kolomeitsev@gsi.de', 'current': True}],\n",
              "  'positions': [{'rank': 'POSTDOC',\n",
              "    'record': {'$ref': 'https://inspirehep.net/api/institutions/903807'},\n",
              "    'current': True,\n",
              "    'institution': 'Darmstadt, GSI',\n",
              "    'curated_relation': True},\n",
              "   {'rank': 'PHD',\n",
              "    'record': {'$ref': 'https://inspirehep.net/api/institutions/902776'},\n",
              "    'end_date': '1997',\n",
              "    'institution': 'Dresden, Tech. U.',\n",
              "    'curated_relation': True},\n",
              "   {'rank': 'UNDERGRADUATE',\n",
              "    'record': {'$ref': 'https://inspirehep.net/api/institutions/903032'},\n",
              "    'institution': 'Moscow Phys. Eng. Inst.',\n",
              "    'curated_relation': True}],\n",
              "  'ids': [{'value': 'E.E.Kolomeitsev.1', 'schema': 'INSPIRE BAI'},\n",
              "   {'value': '0000-0003-1160-2050', 'schema': 'ORCID'},\n",
              "   {'value': 'INSPIRE-00097435', 'schema': 'INSPIRE ID'},\n",
              "   {'value': 'HEPNAMES-230065', 'schema': 'SPIRES'}],\n",
              "  'name': {'value': 'Kolomeitsev, Evgeni E.',\n",
              "   'preferred_name': 'Evgeni E. Kolomeitsev'},\n",
              "  'stub': False,\n",
              "  'status': 'active',\n",
              "  '$schema': 'https://inspirehep.net/schemas/records/authors.json',\n",
              "  'deleted': False,\n",
              "  'control_number': 1002323,\n",
              "  'legacy_version': '20180629215108.0',\n",
              "  'arxiv_categories': ['astro-ph', 'hep-th', 'nucl-th'],\n",
              "  'legacy_creation_date': '2000-01-31'},\n",
              " {'email_addresses': [{'value': 'toneev@clri6a.gsi.de', 'current': True}],\n",
              "  'positions': [{'record': {'$ref': 'https://inspirehep.net/api/institutions/903807'},\n",
              "    'current': True,\n",
              "    'institution': 'Darmstadt, GSI',\n",
              "    'curated_relation': True},\n",
              "   {'record': {'$ref': 'https://inspirehep.net/api/institutions/902780'},\n",
              "    'institution': 'Dubna, JINR',\n",
              "    'curated_relation': True}],\n",
              "  'ids': [{'value': 'V.D.Toneev.1', 'schema': 'INSPIRE BAI'},\n",
              "   {'value': 'INSPIRE-00414561', 'schema': 'INSPIRE ID'},\n",
              "   {'value': 'HEPNAMES-746169', 'schema': 'SPIRES'}],\n",
              "  'name': {'value': 'Toneev, Viacheslav D.',\n",
              "   'name_variants': ['Toneev, Viatcheslav'],\n",
              "   'preferred_name': 'Viacheslav D. Toneev'},\n",
              "  'stub': False,\n",
              "  'status': 'active',\n",
              "  '$schema': 'https://inspirehep.net/schemas/records/authors.json',\n",
              "  'deleted': False,\n",
              "  'control_number': 1049032,\n",
              "  'legacy_version': '20150923142531.0',\n",
              "  'arxiv_categories': ['nucl-ex'],\n",
              "  'legacy_creation_date': '2007-09-24'}]"
            ]
          },
          "metadata": {},
          "execution_count": 8
        }
      ]
    },
    {
      "cell_type": "code",
      "source": [
        "def f(x):\n",
        "  try:\n",
        "    return x.get('name').get('value')\n",
        "  except: \n",
        "    return None"
      ],
      "metadata": {
        "id": "dvI_x2Lazrpu"
      },
      "execution_count": 9,
      "outputs": []
    },
    {
      "cell_type": "code",
      "source": [
        "name = list(map(f,INF))"
      ],
      "metadata": {
        "id": "S9dHsRi8zrdR"
      },
      "execution_count": 10,
      "outputs": []
    },
    {
      "cell_type": "code",
      "source": [
        "def f(x):\n",
        "  try:\n",
        "    return x.get('email_addresses')[0].get('value')\n",
        "  except: \n",
        "    return None"
      ],
      "metadata": {
        "id": "Usqw7UmswExC"
      },
      "execution_count": 23,
      "outputs": []
    },
    {
      "cell_type": "code",
      "source": [
        "email = list(map(f,INF))"
      ],
      "metadata": {
        "id": "iJOsn5XdwPaV"
      },
      "execution_count": 26,
      "outputs": []
    },
    {
      "cell_type": "code",
      "source": [
        "def f(x):\n",
        "  try:\n",
        "    return x.get('positions')[0].get('rank')\n",
        "  except: \n",
        "    return None"
      ],
      "metadata": {
        "id": "JtMQtfXxz0o2"
      },
      "execution_count": 27,
      "outputs": []
    },
    {
      "cell_type": "code",
      "source": [
        "position = list(map(f,INF))"
      ],
      "metadata": {
        "id": "6PpZwI6Pz2Bh"
      },
      "execution_count": 28,
      "outputs": []
    },
    {
      "cell_type": "code",
      "source": [
        "def f(x):\n",
        "  try:\n",
        "    return x.get('positions')[0].get('start_date') \n",
        "  except: \n",
        "    return None"
      ],
      "metadata": {
        "id": "n9BVkm_oz8T4"
      },
      "execution_count": 29,
      "outputs": []
    },
    {
      "cell_type": "code",
      "source": [
        "sdate = list(map(f,INF))"
      ],
      "metadata": {
        "id": "vp2D16M40CJd"
      },
      "execution_count": 30,
      "outputs": []
    },
    {
      "cell_type": "code",
      "source": [
        "def f(x):\n",
        "  try:\n",
        "    return x.get('positions')[0].get('end_date') \n",
        "  except: \n",
        "    return None"
      ],
      "metadata": {
        "id": "hDZNzy4M0FMA"
      },
      "execution_count": 31,
      "outputs": []
    },
    {
      "cell_type": "code",
      "source": [
        "edate = list(map(f,INF))"
      ],
      "metadata": {
        "id": "c95zHlkX0Ihz"
      },
      "execution_count": 32,
      "outputs": []
    },
    {
      "cell_type": "code",
      "source": [
        "def f(x):\n",
        "  try:\n",
        "    return x.get('positions')[0].get('institution') \n",
        "  except: \n",
        "    return None"
      ],
      "metadata": {
        "id": "48zl_ll010C9"
      },
      "execution_count": 44,
      "outputs": []
    },
    {
      "cell_type": "code",
      "source": [
        "institution = list(map(f,INF))"
      ],
      "metadata": {
        "id": "I7eb0ek710fq"
      },
      "execution_count": 45,
      "outputs": []
    },
    {
      "cell_type": "code",
      "source": [
        "df = pd.DataFrame({'NAME ': name ,\n",
        "        'e-mail': email,\n",
        "        'POSITIONS': position,\n",
        "        'INSTITUTION': institution,\n",
        "        'START DATE': sdate,\n",
        "        'END DATE': edate})\n",
        "\n",
        "df"
      ],
      "metadata": {
        "colab": {
          "base_uri": "https://localhost:8080/",
          "height": 143
        },
        "id": "2AEsJ8KsaXML",
        "outputId": "c7c01f52-e9d4-472b-fd8c-fcef8120b15a"
      },
      "execution_count": 46,
      "outputs": [
        {
          "output_type": "execute_result",
          "data": {
            "text/plain": [
              "                    NAME                 e-mail POSITIONS     INSTITUTION  \\\n",
              "0     Khvorostukhin, A.S.                  None      None     Dubna, JINR   \n",
              "1  Kolomeitsev, Evgeni E.  e.kolomeitsev@gsi.de   POSTDOC  Darmstadt, GSI   \n",
              "2   Toneev, Viacheslav D.  toneev@clri6a.gsi.de      None  Darmstadt, GSI   \n",
              "\n",
              "  START DATE END DATE  \n",
              "0       None     None  \n",
              "1       None     None  \n",
              "2       None     None  "
            ],
            "text/html": [
              "\n",
              "  <div id=\"df-ac9925cc-e362-4f48-b0e1-971700d2f468\">\n",
              "    <div class=\"colab-df-container\">\n",
              "      <div>\n",
              "<style scoped>\n",
              "    .dataframe tbody tr th:only-of-type {\n",
              "        vertical-align: middle;\n",
              "    }\n",
              "\n",
              "    .dataframe tbody tr th {\n",
              "        vertical-align: top;\n",
              "    }\n",
              "\n",
              "    .dataframe thead th {\n",
              "        text-align: right;\n",
              "    }\n",
              "</style>\n",
              "<table border=\"1\" class=\"dataframe\">\n",
              "  <thead>\n",
              "    <tr style=\"text-align: right;\">\n",
              "      <th></th>\n",
              "      <th>NAME</th>\n",
              "      <th>e-mail</th>\n",
              "      <th>POSITIONS</th>\n",
              "      <th>INSTITUTION</th>\n",
              "      <th>START DATE</th>\n",
              "      <th>END DATE</th>\n",
              "    </tr>\n",
              "  </thead>\n",
              "  <tbody>\n",
              "    <tr>\n",
              "      <th>0</th>\n",
              "      <td>Khvorostukhin, A.S.</td>\n",
              "      <td>None</td>\n",
              "      <td>None</td>\n",
              "      <td>Dubna, JINR</td>\n",
              "      <td>None</td>\n",
              "      <td>None</td>\n",
              "    </tr>\n",
              "    <tr>\n",
              "      <th>1</th>\n",
              "      <td>Kolomeitsev, Evgeni E.</td>\n",
              "      <td>e.kolomeitsev@gsi.de</td>\n",
              "      <td>POSTDOC</td>\n",
              "      <td>Darmstadt, GSI</td>\n",
              "      <td>None</td>\n",
              "      <td>None</td>\n",
              "    </tr>\n",
              "    <tr>\n",
              "      <th>2</th>\n",
              "      <td>Toneev, Viacheslav D.</td>\n",
              "      <td>toneev@clri6a.gsi.de</td>\n",
              "      <td>None</td>\n",
              "      <td>Darmstadt, GSI</td>\n",
              "      <td>None</td>\n",
              "      <td>None</td>\n",
              "    </tr>\n",
              "  </tbody>\n",
              "</table>\n",
              "</div>\n",
              "      <button class=\"colab-df-convert\" onclick=\"convertToInteractive('df-ac9925cc-e362-4f48-b0e1-971700d2f468')\"\n",
              "              title=\"Convert this dataframe to an interactive table.\"\n",
              "              style=\"display:none;\">\n",
              "        \n",
              "  <svg xmlns=\"http://www.w3.org/2000/svg\" height=\"24px\"viewBox=\"0 0 24 24\"\n",
              "       width=\"24px\">\n",
              "    <path d=\"M0 0h24v24H0V0z\" fill=\"none\"/>\n",
              "    <path d=\"M18.56 5.44l.94 2.06.94-2.06 2.06-.94-2.06-.94-.94-2.06-.94 2.06-2.06.94zm-11 1L8.5 8.5l.94-2.06 2.06-.94-2.06-.94L8.5 2.5l-.94 2.06-2.06.94zm10 10l.94 2.06.94-2.06 2.06-.94-2.06-.94-.94-2.06-.94 2.06-2.06.94z\"/><path d=\"M17.41 7.96l-1.37-1.37c-.4-.4-.92-.59-1.43-.59-.52 0-1.04.2-1.43.59L10.3 9.45l-7.72 7.72c-.78.78-.78 2.05 0 2.83L4 21.41c.39.39.9.59 1.41.59.51 0 1.02-.2 1.41-.59l7.78-7.78 2.81-2.81c.8-.78.8-2.07 0-2.86zM5.41 20L4 18.59l7.72-7.72 1.47 1.35L5.41 20z\"/>\n",
              "  </svg>\n",
              "      </button>\n",
              "      \n",
              "  <style>\n",
              "    .colab-df-container {\n",
              "      display:flex;\n",
              "      flex-wrap:wrap;\n",
              "      gap: 12px;\n",
              "    }\n",
              "\n",
              "    .colab-df-convert {\n",
              "      background-color: #E8F0FE;\n",
              "      border: none;\n",
              "      border-radius: 50%;\n",
              "      cursor: pointer;\n",
              "      display: none;\n",
              "      fill: #1967D2;\n",
              "      height: 32px;\n",
              "      padding: 0 0 0 0;\n",
              "      width: 32px;\n",
              "    }\n",
              "\n",
              "    .colab-df-convert:hover {\n",
              "      background-color: #E2EBFA;\n",
              "      box-shadow: 0px 1px 2px rgba(60, 64, 67, 0.3), 0px 1px 3px 1px rgba(60, 64, 67, 0.15);\n",
              "      fill: #174EA6;\n",
              "    }\n",
              "\n",
              "    [theme=dark] .colab-df-convert {\n",
              "      background-color: #3B4455;\n",
              "      fill: #D2E3FC;\n",
              "    }\n",
              "\n",
              "    [theme=dark] .colab-df-convert:hover {\n",
              "      background-color: #434B5C;\n",
              "      box-shadow: 0px 1px 3px 1px rgba(0, 0, 0, 0.15);\n",
              "      filter: drop-shadow(0px 1px 2px rgba(0, 0, 0, 0.3));\n",
              "      fill: #FFFFFF;\n",
              "    }\n",
              "  </style>\n",
              "\n",
              "      <script>\n",
              "        const buttonEl =\n",
              "          document.querySelector('#df-ac9925cc-e362-4f48-b0e1-971700d2f468 button.colab-df-convert');\n",
              "        buttonEl.style.display =\n",
              "          google.colab.kernel.accessAllowed ? 'block' : 'none';\n",
              "\n",
              "        async function convertToInteractive(key) {\n",
              "          const element = document.querySelector('#df-ac9925cc-e362-4f48-b0e1-971700d2f468');\n",
              "          const dataTable =\n",
              "            await google.colab.kernel.invokeFunction('convertToInteractive',\n",
              "                                                     [key], {});\n",
              "          if (!dataTable) return;\n",
              "\n",
              "          const docLinkHtml = 'Like what you see? Visit the ' +\n",
              "            '<a target=\"_blank\" href=https://colab.research.google.com/notebooks/data_table.ipynb>data table notebook</a>'\n",
              "            + ' to learn more about interactive tables.';\n",
              "          element.innerHTML = '';\n",
              "          dataTable['output_type'] = 'display_data';\n",
              "          await google.colab.output.renderOutput(dataTable, element);\n",
              "          const docLink = document.createElement('div');\n",
              "          docLink.innerHTML = docLinkHtml;\n",
              "          element.appendChild(docLink);\n",
              "        }\n",
              "      </script>\n",
              "    </div>\n",
              "  </div>\n",
              "  "
            ]
          },
          "metadata": {},
          "execution_count": 46
        }
      ]
    }
  ]
}