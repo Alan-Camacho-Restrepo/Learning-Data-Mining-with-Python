{
  "nbformat": 4,
  "nbformat_minor": 0,
  "metadata": {
    "colab": {
      "name": "Homework_1.ipynb",
      "provenance": [],
      "collapsed_sections": []
    },
    "kernelspec": {
      "name": "python3",
      "display_name": "Python 3"
    },
    "language_info": {
      "name": "python"
    }
  },
  "cells": [
    {
      "cell_type": "markdown",
      "source": [
        "#Homerwork 1\n",
        "##Rafael Barrera Quiroz C.C.1035433047"
      ],
      "metadata": {
        "id": "oz2D1V8SiNYq"
      }
    },
    {
      "cell_type": "markdown",
      "source": [
        "###Analice el libro contando la aparición de tres nombres de personajes principales: Jim, Tom, Huck a través de los capítulos del libro."
      ],
      "metadata": {
        "id": "FhrebDGpifzd"
      }
    },
    {
      "cell_type": "code",
      "execution_count": 1,
      "metadata": {
        "id": "1mO9tDNKZtbo"
      },
      "outputs": [],
      "source": [
        "import numpy as np\n",
        "import pandas as pd\n",
        "import matplotlib.pyplot as plt\n",
        "from urllib.request import urlopen"
      ]
    },
    {
      "cell_type": "code",
      "source": [
        "Book = urlopen(\"https://www.gutenberg.org/files/76/76-0.txt\").read().decode('utf-8')"
      ],
      "metadata": {
        "id": "mcLAHidmZ2fm"
      },
      "execution_count": 2,
      "outputs": []
    },
    {
      "cell_type": "code",
      "source": [
        "start='CHAPTER I.'\n",
        "finish='\\r\\n\\r\\nCHAPTER THE LAST.'\n",
        "chaps=Book[Book.find(start):Book.find(finish)+len(finish)]\n",
        "chaps=chaps.split('\\r\\n\\r\\n')"
      ],
      "metadata": {
        "id": "f_XnZyy0Z2cx"
      },
      "execution_count": 3,
      "outputs": []
    },
    {
      "cell_type": "code",
      "source": [
        "lst_chaps=[]\n",
        "for i in range(len(chaps)):\n",
        "  lst_chaps.append(chaps[i][0:chaps[i].find('.')])\n",
        "print(f'Number book´s chapters is {len(lst_chaps)}')"
      ],
      "metadata": {
        "colab": {
          "base_uri": "https://localhost:8080/"
        },
        "id": "Er-nNEL7Z2Z8",
        "outputId": "53839c68-30d6-45aa-d0bc-9c9af8385245"
      },
      "execution_count": 4,
      "outputs": [
        {
          "output_type": "stream",
          "name": "stdout",
          "text": [
            "Number book´s chapters is 43\n"
          ]
        }
      ]
    },
    {
      "cell_type": "code",
      "source": [
        "lst_chaps.append('THE END')"
      ],
      "metadata": {
        "id": "4L5zAypAael0"
      },
      "execution_count": 5,
      "outputs": []
    },
    {
      "cell_type": "code",
      "source": [
        "name=['Tom','Jim','Huck']\n",
        "Num=[]\n",
        "for j in range(3):\n",
        "  for i in range(42):\n",
        "    if i==41:\n",
        "      start=lst_chaps[i]+'.\\r\\n\\r\\n\\r\\n'\n",
        "      finish='\\r\\n\\r\\n\\r\\n\\r\\n\\r\\n'+lst_chaps[i+1]+'\\r\\n\\r\\n\\r\\n'\n",
        "      Ch=Book[Book.find(start)+len(start):Book.rfind(finish)]\n",
        "      num=Ch.count(name[j])+Ch.count(name[j].upper())+Ch.count(name[j].lower())\n",
        "      Num.append(num)\n",
        "  \n",
        "    if i==42:\n",
        "      start=lst_chaps[i]+'\\r\\n\\r\\n\\r\\n'\n",
        "      finish='\\r\\n\\r\\n'+lst_chaps[i+1]+'.'\n",
        "      Ch=Book[Book.find(start)+len(start):Book.rfind(finish)]\n",
        "      num=Ch.count(name[j])+Ch.count(name[j].upper())+Ch.count(name[j].lower())\n",
        "      Num.append(num)  \n",
        "\n",
        "    start=lst_chaps[i]+'.\\r\\n\\r\\n\\r\\n'\n",
        "    finish='\\r\\n\\r\\n\\r\\n\\r\\n\\r\\n'+lst_chaps[i+1]+'.\\r\\n\\r\\n\\r\\n'\n",
        "    Ch=Book[Book.find(start)+len(start):Book.rfind(finish)]\n",
        "    num=Ch.count(name[j])+Ch.count(name[j].upper())+Ch.count(name[j].lower())\n",
        "    Num.append(num)"
      ],
      "metadata": {
        "id": "L_3KCK6fbUsp"
      },
      "execution_count": 6,
      "outputs": []
    },
    {
      "cell_type": "code",
      "source": [
        "Num=np.array(Num)\n",
        "Num=Num.reshape(3,43)"
      ],
      "metadata": {
        "id": "ew73TXydcCiU"
      },
      "execution_count": 7,
      "outputs": []
    },
    {
      "cell_type": "code",
      "source": [
        "cha='Chapter_'\n",
        "L=np.arange(1,44).astype(str)\n",
        "col=[]\n",
        "for i in range(43):\n",
        "  col.append(cha+L[i])"
      ],
      "metadata": {
        "id": "t9-zpvYScJLD"
      },
      "execution_count": 8,
      "outputs": []
    },
    {
      "cell_type": "code",
      "source": [
        "data=pd.DataFrame(Num,columns=col)\n",
        "data.insert(0,'Name',name)"
      ],
      "metadata": {
        "id": "HPJAx16qcMAB"
      },
      "execution_count": 9,
      "outputs": []
    },
    {
      "cell_type": "code",
      "source": [
        "data"
      ],
      "metadata": {
        "colab": {
          "base_uri": "https://localhost:8080/",
          "height": 237
        },
        "id": "b3s_j2E1cS4F",
        "outputId": "89a1c977-f412-4663-d320-6bf725c3c699"
      },
      "execution_count": 10,
      "outputs": [
        {
          "output_type": "execute_result",
          "data": {
            "text/plain": [
              "   Name  Chapter_1  Chapter_2  Chapter_3  Chapter_4  Chapter_5  Chapter_6  \\\n",
              "0   Tom          6         24          5          1          0          2   \n",
              "1   Jim          0         16          0          8          0          0   \n",
              "2  Huck          3          2          3          1          0          2   \n",
              "\n",
              "   Chapter_7  Chapter_8  Chapter_9  ...  Chapter_34  Chapter_35  Chapter_36  \\\n",
              "0          5          2          1  ...          15          18          19   \n",
              "1          0         22         11  ...          17          18          24   \n",
              "2          0          6          1  ...           6           9           2   \n",
              "\n",
              "   Chapter_37  Chapter_38  Chapter_39  Chapter_40  Chapter_41  Chapter_42  \\\n",
              "0          11          32          12          11           9          32   \n",
              "1           4          27          10          13           0          12   \n",
              "2           0           3           1           3           1           2   \n",
              "\n",
              "   Chapter_43  \n",
              "0          38  \n",
              "1          18  \n",
              "2           7  \n",
              "\n",
              "[3 rows x 44 columns]"
            ],
            "text/html": [
              "\n",
              "  <div id=\"df-39fee016-3154-4e44-ad42-8bbd060d65ab\">\n",
              "    <div class=\"colab-df-container\">\n",
              "      <div>\n",
              "<style scoped>\n",
              "    .dataframe tbody tr th:only-of-type {\n",
              "        vertical-align: middle;\n",
              "    }\n",
              "\n",
              "    .dataframe tbody tr th {\n",
              "        vertical-align: top;\n",
              "    }\n",
              "\n",
              "    .dataframe thead th {\n",
              "        text-align: right;\n",
              "    }\n",
              "</style>\n",
              "<table border=\"1\" class=\"dataframe\">\n",
              "  <thead>\n",
              "    <tr style=\"text-align: right;\">\n",
              "      <th></th>\n",
              "      <th>Name</th>\n",
              "      <th>Chapter_1</th>\n",
              "      <th>Chapter_2</th>\n",
              "      <th>Chapter_3</th>\n",
              "      <th>Chapter_4</th>\n",
              "      <th>Chapter_5</th>\n",
              "      <th>Chapter_6</th>\n",
              "      <th>Chapter_7</th>\n",
              "      <th>Chapter_8</th>\n",
              "      <th>Chapter_9</th>\n",
              "      <th>...</th>\n",
              "      <th>Chapter_34</th>\n",
              "      <th>Chapter_35</th>\n",
              "      <th>Chapter_36</th>\n",
              "      <th>Chapter_37</th>\n",
              "      <th>Chapter_38</th>\n",
              "      <th>Chapter_39</th>\n",
              "      <th>Chapter_40</th>\n",
              "      <th>Chapter_41</th>\n",
              "      <th>Chapter_42</th>\n",
              "      <th>Chapter_43</th>\n",
              "    </tr>\n",
              "  </thead>\n",
              "  <tbody>\n",
              "    <tr>\n",
              "      <th>0</th>\n",
              "      <td>Tom</td>\n",
              "      <td>6</td>\n",
              "      <td>24</td>\n",
              "      <td>5</td>\n",
              "      <td>1</td>\n",
              "      <td>0</td>\n",
              "      <td>2</td>\n",
              "      <td>5</td>\n",
              "      <td>2</td>\n",
              "      <td>1</td>\n",
              "      <td>...</td>\n",
              "      <td>15</td>\n",
              "      <td>18</td>\n",
              "      <td>19</td>\n",
              "      <td>11</td>\n",
              "      <td>32</td>\n",
              "      <td>12</td>\n",
              "      <td>11</td>\n",
              "      <td>9</td>\n",
              "      <td>32</td>\n",
              "      <td>38</td>\n",
              "    </tr>\n",
              "    <tr>\n",
              "      <th>1</th>\n",
              "      <td>Jim</td>\n",
              "      <td>0</td>\n",
              "      <td>16</td>\n",
              "      <td>0</td>\n",
              "      <td>8</td>\n",
              "      <td>0</td>\n",
              "      <td>0</td>\n",
              "      <td>0</td>\n",
              "      <td>22</td>\n",
              "      <td>11</td>\n",
              "      <td>...</td>\n",
              "      <td>17</td>\n",
              "      <td>18</td>\n",
              "      <td>24</td>\n",
              "      <td>4</td>\n",
              "      <td>27</td>\n",
              "      <td>10</td>\n",
              "      <td>13</td>\n",
              "      <td>0</td>\n",
              "      <td>12</td>\n",
              "      <td>18</td>\n",
              "    </tr>\n",
              "    <tr>\n",
              "      <th>2</th>\n",
              "      <td>Huck</td>\n",
              "      <td>3</td>\n",
              "      <td>2</td>\n",
              "      <td>3</td>\n",
              "      <td>1</td>\n",
              "      <td>0</td>\n",
              "      <td>2</td>\n",
              "      <td>0</td>\n",
              "      <td>6</td>\n",
              "      <td>1</td>\n",
              "      <td>...</td>\n",
              "      <td>6</td>\n",
              "      <td>9</td>\n",
              "      <td>2</td>\n",
              "      <td>0</td>\n",
              "      <td>3</td>\n",
              "      <td>1</td>\n",
              "      <td>3</td>\n",
              "      <td>1</td>\n",
              "      <td>2</td>\n",
              "      <td>7</td>\n",
              "    </tr>\n",
              "  </tbody>\n",
              "</table>\n",
              "<p>3 rows × 44 columns</p>\n",
              "</div>\n",
              "      <button class=\"colab-df-convert\" onclick=\"convertToInteractive('df-39fee016-3154-4e44-ad42-8bbd060d65ab')\"\n",
              "              title=\"Convert this dataframe to an interactive table.\"\n",
              "              style=\"display:none;\">\n",
              "        \n",
              "  <svg xmlns=\"http://www.w3.org/2000/svg\" height=\"24px\"viewBox=\"0 0 24 24\"\n",
              "       width=\"24px\">\n",
              "    <path d=\"M0 0h24v24H0V0z\" fill=\"none\"/>\n",
              "    <path d=\"M18.56 5.44l.94 2.06.94-2.06 2.06-.94-2.06-.94-.94-2.06-.94 2.06-2.06.94zm-11 1L8.5 8.5l.94-2.06 2.06-.94-2.06-.94L8.5 2.5l-.94 2.06-2.06.94zm10 10l.94 2.06.94-2.06 2.06-.94-2.06-.94-.94-2.06-.94 2.06-2.06.94z\"/><path d=\"M17.41 7.96l-1.37-1.37c-.4-.4-.92-.59-1.43-.59-.52 0-1.04.2-1.43.59L10.3 9.45l-7.72 7.72c-.78.78-.78 2.05 0 2.83L4 21.41c.39.39.9.59 1.41.59.51 0 1.02-.2 1.41-.59l7.78-7.78 2.81-2.81c.8-.78.8-2.07 0-2.86zM5.41 20L4 18.59l7.72-7.72 1.47 1.35L5.41 20z\"/>\n",
              "  </svg>\n",
              "      </button>\n",
              "      \n",
              "  <style>\n",
              "    .colab-df-container {\n",
              "      display:flex;\n",
              "      flex-wrap:wrap;\n",
              "      gap: 12px;\n",
              "    }\n",
              "\n",
              "    .colab-df-convert {\n",
              "      background-color: #E8F0FE;\n",
              "      border: none;\n",
              "      border-radius: 50%;\n",
              "      cursor: pointer;\n",
              "      display: none;\n",
              "      fill: #1967D2;\n",
              "      height: 32px;\n",
              "      padding: 0 0 0 0;\n",
              "      width: 32px;\n",
              "    }\n",
              "\n",
              "    .colab-df-convert:hover {\n",
              "      background-color: #E2EBFA;\n",
              "      box-shadow: 0px 1px 2px rgba(60, 64, 67, 0.3), 0px 1px 3px 1px rgba(60, 64, 67, 0.15);\n",
              "      fill: #174EA6;\n",
              "    }\n",
              "\n",
              "    [theme=dark] .colab-df-convert {\n",
              "      background-color: #3B4455;\n",
              "      fill: #D2E3FC;\n",
              "    }\n",
              "\n",
              "    [theme=dark] .colab-df-convert:hover {\n",
              "      background-color: #434B5C;\n",
              "      box-shadow: 0px 1px 3px 1px rgba(0, 0, 0, 0.15);\n",
              "      filter: drop-shadow(0px 1px 2px rgba(0, 0, 0, 0.3));\n",
              "      fill: #FFFFFF;\n",
              "    }\n",
              "  </style>\n",
              "\n",
              "      <script>\n",
              "        const buttonEl =\n",
              "          document.querySelector('#df-39fee016-3154-4e44-ad42-8bbd060d65ab button.colab-df-convert');\n",
              "        buttonEl.style.display =\n",
              "          google.colab.kernel.accessAllowed ? 'block' : 'none';\n",
              "\n",
              "        async function convertToInteractive(key) {\n",
              "          const element = document.querySelector('#df-39fee016-3154-4e44-ad42-8bbd060d65ab');\n",
              "          const dataTable =\n",
              "            await google.colab.kernel.invokeFunction('convertToInteractive',\n",
              "                                                     [key], {});\n",
              "          if (!dataTable) return;\n",
              "\n",
              "          const docLinkHtml = 'Like what you see? Visit the ' +\n",
              "            '<a target=\"_blank\" href=https://colab.research.google.com/notebooks/data_table.ipynb>data table notebook</a>'\n",
              "            + ' to learn more about interactive tables.';\n",
              "          element.innerHTML = '';\n",
              "          dataTable['output_type'] = 'display_data';\n",
              "          await google.colab.output.renderOutput(dataTable, element);\n",
              "          const docLink = document.createElement('div');\n",
              "          docLink.innerHTML = docLinkHtml;\n",
              "          element.appendChild(docLink);\n",
              "        }\n",
              "      </script>\n",
              "    </div>\n",
              "  </div>\n",
              "  "
            ]
          },
          "metadata": {},
          "execution_count": 10
        }
      ]
    },
    {
      "cell_type": "code",
      "source": [
        "data.to_csv('data_counts.csv',index=False) ##Export to csv file"
      ],
      "metadata": {
        "id": "2j-PJh2tcZBg"
      },
      "execution_count": 11,
      "outputs": []
    },
    {
      "cell_type": "code",
      "source": [
        "data_upload=pd.read_csv('data_counts.csv')  ##upload csv file"
      ],
      "metadata": {
        "id": "-tviw50ac-zK"
      },
      "execution_count": 12,
      "outputs": []
    },
    {
      "cell_type": "code",
      "source": [
        "data_upload"
      ],
      "metadata": {
        "colab": {
          "base_uri": "https://localhost:8080/",
          "height": 237
        },
        "id": "9IPiMMhmdRUf",
        "outputId": "82d31e5f-9a99-4c58-b547-6680895a3f90"
      },
      "execution_count": 13,
      "outputs": [
        {
          "output_type": "execute_result",
          "data": {
            "text/plain": [
              "   Name  Chapter_1  Chapter_2  Chapter_3  Chapter_4  Chapter_5  Chapter_6  \\\n",
              "0   Tom          6         24          5          1          0          2   \n",
              "1   Jim          0         16          0          8          0          0   \n",
              "2  Huck          3          2          3          1          0          2   \n",
              "\n",
              "   Chapter_7  Chapter_8  Chapter_9  ...  Chapter_34  Chapter_35  Chapter_36  \\\n",
              "0          5          2          1  ...          15          18          19   \n",
              "1          0         22         11  ...          17          18          24   \n",
              "2          0          6          1  ...           6           9           2   \n",
              "\n",
              "   Chapter_37  Chapter_38  Chapter_39  Chapter_40  Chapter_41  Chapter_42  \\\n",
              "0          11          32          12          11           9          32   \n",
              "1           4          27          10          13           0          12   \n",
              "2           0           3           1           3           1           2   \n",
              "\n",
              "   Chapter_43  \n",
              "0          38  \n",
              "1          18  \n",
              "2           7  \n",
              "\n",
              "[3 rows x 44 columns]"
            ],
            "text/html": [
              "\n",
              "  <div id=\"df-74fe5c74-35e5-4596-b42c-48d367755516\">\n",
              "    <div class=\"colab-df-container\">\n",
              "      <div>\n",
              "<style scoped>\n",
              "    .dataframe tbody tr th:only-of-type {\n",
              "        vertical-align: middle;\n",
              "    }\n",
              "\n",
              "    .dataframe tbody tr th {\n",
              "        vertical-align: top;\n",
              "    }\n",
              "\n",
              "    .dataframe thead th {\n",
              "        text-align: right;\n",
              "    }\n",
              "</style>\n",
              "<table border=\"1\" class=\"dataframe\">\n",
              "  <thead>\n",
              "    <tr style=\"text-align: right;\">\n",
              "      <th></th>\n",
              "      <th>Name</th>\n",
              "      <th>Chapter_1</th>\n",
              "      <th>Chapter_2</th>\n",
              "      <th>Chapter_3</th>\n",
              "      <th>Chapter_4</th>\n",
              "      <th>Chapter_5</th>\n",
              "      <th>Chapter_6</th>\n",
              "      <th>Chapter_7</th>\n",
              "      <th>Chapter_8</th>\n",
              "      <th>Chapter_9</th>\n",
              "      <th>...</th>\n",
              "      <th>Chapter_34</th>\n",
              "      <th>Chapter_35</th>\n",
              "      <th>Chapter_36</th>\n",
              "      <th>Chapter_37</th>\n",
              "      <th>Chapter_38</th>\n",
              "      <th>Chapter_39</th>\n",
              "      <th>Chapter_40</th>\n",
              "      <th>Chapter_41</th>\n",
              "      <th>Chapter_42</th>\n",
              "      <th>Chapter_43</th>\n",
              "    </tr>\n",
              "  </thead>\n",
              "  <tbody>\n",
              "    <tr>\n",
              "      <th>0</th>\n",
              "      <td>Tom</td>\n",
              "      <td>6</td>\n",
              "      <td>24</td>\n",
              "      <td>5</td>\n",
              "      <td>1</td>\n",
              "      <td>0</td>\n",
              "      <td>2</td>\n",
              "      <td>5</td>\n",
              "      <td>2</td>\n",
              "      <td>1</td>\n",
              "      <td>...</td>\n",
              "      <td>15</td>\n",
              "      <td>18</td>\n",
              "      <td>19</td>\n",
              "      <td>11</td>\n",
              "      <td>32</td>\n",
              "      <td>12</td>\n",
              "      <td>11</td>\n",
              "      <td>9</td>\n",
              "      <td>32</td>\n",
              "      <td>38</td>\n",
              "    </tr>\n",
              "    <tr>\n",
              "      <th>1</th>\n",
              "      <td>Jim</td>\n",
              "      <td>0</td>\n",
              "      <td>16</td>\n",
              "      <td>0</td>\n",
              "      <td>8</td>\n",
              "      <td>0</td>\n",
              "      <td>0</td>\n",
              "      <td>0</td>\n",
              "      <td>22</td>\n",
              "      <td>11</td>\n",
              "      <td>...</td>\n",
              "      <td>17</td>\n",
              "      <td>18</td>\n",
              "      <td>24</td>\n",
              "      <td>4</td>\n",
              "      <td>27</td>\n",
              "      <td>10</td>\n",
              "      <td>13</td>\n",
              "      <td>0</td>\n",
              "      <td>12</td>\n",
              "      <td>18</td>\n",
              "    </tr>\n",
              "    <tr>\n",
              "      <th>2</th>\n",
              "      <td>Huck</td>\n",
              "      <td>3</td>\n",
              "      <td>2</td>\n",
              "      <td>3</td>\n",
              "      <td>1</td>\n",
              "      <td>0</td>\n",
              "      <td>2</td>\n",
              "      <td>0</td>\n",
              "      <td>6</td>\n",
              "      <td>1</td>\n",
              "      <td>...</td>\n",
              "      <td>6</td>\n",
              "      <td>9</td>\n",
              "      <td>2</td>\n",
              "      <td>0</td>\n",
              "      <td>3</td>\n",
              "      <td>1</td>\n",
              "      <td>3</td>\n",
              "      <td>1</td>\n",
              "      <td>2</td>\n",
              "      <td>7</td>\n",
              "    </tr>\n",
              "  </tbody>\n",
              "</table>\n",
              "<p>3 rows × 44 columns</p>\n",
              "</div>\n",
              "      <button class=\"colab-df-convert\" onclick=\"convertToInteractive('df-74fe5c74-35e5-4596-b42c-48d367755516')\"\n",
              "              title=\"Convert this dataframe to an interactive table.\"\n",
              "              style=\"display:none;\">\n",
              "        \n",
              "  <svg xmlns=\"http://www.w3.org/2000/svg\" height=\"24px\"viewBox=\"0 0 24 24\"\n",
              "       width=\"24px\">\n",
              "    <path d=\"M0 0h24v24H0V0z\" fill=\"none\"/>\n",
              "    <path d=\"M18.56 5.44l.94 2.06.94-2.06 2.06-.94-2.06-.94-.94-2.06-.94 2.06-2.06.94zm-11 1L8.5 8.5l.94-2.06 2.06-.94-2.06-.94L8.5 2.5l-.94 2.06-2.06.94zm10 10l.94 2.06.94-2.06 2.06-.94-2.06-.94-.94-2.06-.94 2.06-2.06.94z\"/><path d=\"M17.41 7.96l-1.37-1.37c-.4-.4-.92-.59-1.43-.59-.52 0-1.04.2-1.43.59L10.3 9.45l-7.72 7.72c-.78.78-.78 2.05 0 2.83L4 21.41c.39.39.9.59 1.41.59.51 0 1.02-.2 1.41-.59l7.78-7.78 2.81-2.81c.8-.78.8-2.07 0-2.86zM5.41 20L4 18.59l7.72-7.72 1.47 1.35L5.41 20z\"/>\n",
              "  </svg>\n",
              "      </button>\n",
              "      \n",
              "  <style>\n",
              "    .colab-df-container {\n",
              "      display:flex;\n",
              "      flex-wrap:wrap;\n",
              "      gap: 12px;\n",
              "    }\n",
              "\n",
              "    .colab-df-convert {\n",
              "      background-color: #E8F0FE;\n",
              "      border: none;\n",
              "      border-radius: 50%;\n",
              "      cursor: pointer;\n",
              "      display: none;\n",
              "      fill: #1967D2;\n",
              "      height: 32px;\n",
              "      padding: 0 0 0 0;\n",
              "      width: 32px;\n",
              "    }\n",
              "\n",
              "    .colab-df-convert:hover {\n",
              "      background-color: #E2EBFA;\n",
              "      box-shadow: 0px 1px 2px rgba(60, 64, 67, 0.3), 0px 1px 3px 1px rgba(60, 64, 67, 0.15);\n",
              "      fill: #174EA6;\n",
              "    }\n",
              "\n",
              "    [theme=dark] .colab-df-convert {\n",
              "      background-color: #3B4455;\n",
              "      fill: #D2E3FC;\n",
              "    }\n",
              "\n",
              "    [theme=dark] .colab-df-convert:hover {\n",
              "      background-color: #434B5C;\n",
              "      box-shadow: 0px 1px 3px 1px rgba(0, 0, 0, 0.15);\n",
              "      filter: drop-shadow(0px 1px 2px rgba(0, 0, 0, 0.3));\n",
              "      fill: #FFFFFF;\n",
              "    }\n",
              "  </style>\n",
              "\n",
              "      <script>\n",
              "        const buttonEl =\n",
              "          document.querySelector('#df-74fe5c74-35e5-4596-b42c-48d367755516 button.colab-df-convert');\n",
              "        buttonEl.style.display =\n",
              "          google.colab.kernel.accessAllowed ? 'block' : 'none';\n",
              "\n",
              "        async function convertToInteractive(key) {\n",
              "          const element = document.querySelector('#df-74fe5c74-35e5-4596-b42c-48d367755516');\n",
              "          const dataTable =\n",
              "            await google.colab.kernel.invokeFunction('convertToInteractive',\n",
              "                                                     [key], {});\n",
              "          if (!dataTable) return;\n",
              "\n",
              "          const docLinkHtml = 'Like what you see? Visit the ' +\n",
              "            '<a target=\"_blank\" href=https://colab.research.google.com/notebooks/data_table.ipynb>data table notebook</a>'\n",
              "            + ' to learn more about interactive tables.';\n",
              "          element.innerHTML = '';\n",
              "          dataTable['output_type'] = 'display_data';\n",
              "          await google.colab.output.renderOutput(dataTable, element);\n",
              "          const docLink = document.createElement('div');\n",
              "          docLink.innerHTML = docLinkHtml;\n",
              "          element.appendChild(docLink);\n",
              "        }\n",
              "      </script>\n",
              "    </div>\n",
              "  </div>\n",
              "  "
            ]
          },
          "metadata": {},
          "execution_count": 13
        }
      ]
    },
    {
      "cell_type": "code",
      "source": [
        "data_np=data_upload.to_numpy()\n",
        "data_np=np.delete(data_np,0,1)"
      ],
      "metadata": {
        "id": "znL_b8rNdSbD"
      },
      "execution_count": 14,
      "outputs": []
    },
    {
      "cell_type": "code",
      "source": [
        "plt.figure(figsize=(10,7))\n",
        "for i in range(3):\n",
        "  plt.plot(np.arange(1,44),data_np[i],'-o',label=name[i])\n",
        "  plt.xticks(np.arange(1,44,3))\n",
        "plt.xlabel('Chapter', fontsize=11)\n",
        "plt.ylabel('Occurrence of name', fontsize=11)\n",
        "plt.title('Adventures of Huckleberry Finn, by Mark Twain', fontsize=12)\n",
        "plt.legend(fontsize=12)\n",
        "plt.show()"
      ],
      "metadata": {
        "colab": {
          "base_uri": "https://localhost:8080/",
          "height": 458
        },
        "id": "BRWtbGbpdp3e",
        "outputId": "b86b2ff5-5082-4f24-d036-d4a30d71bf32"
      },
      "execution_count": 15,
      "outputs": [
        {
          "output_type": "display_data",
          "data": {
            "text/plain": [
              "<Figure size 720x504 with 1 Axes>"
            ],
            "image/png": "[encoded data removed]"
          },
          "metadata": {
            "needs_background": "light"
          }
        }
      ]
    },
    {
      "cell_type": "code",
      "source": [
        "plt.figure(figsize=(10,7))\n",
        "for i in range(3):\n",
        "  plt.plot(np.arange(1,44),data_np[i].cumsum(),'-o',label=name[i])\n",
        "  plt.xticks(np.arange(1,44,3))\n",
        "plt.xlabel('Chapter', fontsize=11)\n",
        "plt.ylabel('Cumulative Sum for name', fontsize=11)\n",
        "plt.title('Adventures of Huckleberry Finn, by Mark Twain', fontsize=12)\n",
        "plt.legend(fontsize=12)\n",
        "plt.show()"
      ],
      "metadata": {
        "colab": {
          "base_uri": "https://localhost:8080/",
          "height": 458
        },
        "id": "rk3987YZdp0G",
        "outputId": "8cd59cec-7f21-4185-a70f-26b0d01c1af5"
      },
      "execution_count": 16,
      "outputs": [
        {
          "output_type": "display_data",
          "data": {
            "text/plain": [
              "<Figure size 720x504 with 1 Axes>"
            ],
            "image/png": "[encoded data removed]"
          },
          "metadata": {
            "needs_background": "light"
          }
        }
      ]
    },
    {
      "cell_type": "markdown",
      "source": [
        "###Puede observarse, como a partir del cápitulo 8, el personaje Jim cobra mayor relevancia que cualquiera de los otros personajes."
      ],
      "metadata": {
        "id": "q7afo_4HhC7B"
      }
    }
  ]
}