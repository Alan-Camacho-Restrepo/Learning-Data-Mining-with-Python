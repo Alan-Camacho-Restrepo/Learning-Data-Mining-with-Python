{
 "cells": [
  {
   "cell_type": "code",
   "execution_count": 246,
   "id": "2f983b3b",
   "metadata": {},
   "outputs": [],
   "source": [
    "from bs4 import BeautifulSoup\n",
    "import pandas as pd\n",
    "import re\n",
    "import requests\n",
    "import csv"
   ]
  },
  {
   "cell_type": "markdown",
   "id": "d0675570",
   "metadata": {},
   "source": [
    "### Using web-scrapping technique, save to a csv file all the names and prices of the books from the following website (1-50): https://books.toscrape.com/"
   ]
  },
  {
   "cell_type": "code",
   "execution_count": 247,
   "id": "f16aa2b2",
   "metadata": {},
   "outputs": [],
   "source": [
    "books_titles=[]\n",
    "prices=[]\n",
    "    \n",
    "for i in range(1,51):\n",
    "    page = requests.get(\"https://books.toscrape.com/catalogue/page-{}.html\".format(i))\n",
    "    soup = BeautifulSoup(page.content, 'html.parser')\n",
    "    \n",
    "    for b in soup.find_all('h3'):\n",
    "        books_titles.append(b.text)\n",
    "      \n",
    "    for p in soup.find_all('p', class_ = 'price_color'):\n",
    "        prices.append(p.text.replace('£',''))\n"
   ]
  },
  {
   "cell_type": "code",
   "execution_count": 254,
   "id": "fe34e2f8",
   "metadata": {},
   "outputs": [
    {
     "data": {
      "text/html": [
       "<div>\n",
       "<style scoped>\n",
       "    .dataframe tbody tr th:only-of-type {\n",
       "        vertical-align: middle;\n",
       "    }\n",
       "\n",
       "    .dataframe tbody tr th {\n",
       "        vertical-align: top;\n",
       "    }\n",
       "\n",
       "    .dataframe thead th {\n",
       "        text-align: right;\n",
       "    }\n",
       "</style>\n",
       "<table border=\"1\" class=\"dataframe\">\n",
       "  <thead>\n",
       "    <tr style=\"text-align: right;\">\n",
       "      <th></th>\n",
       "      <th>Book_name</th>\n",
       "      <th>Price</th>\n",
       "    </tr>\n",
       "  </thead>\n",
       "  <tbody>\n",
       "    <tr>\n",
       "      <th>0</th>\n",
       "      <td>A Light in the ...</td>\n",
       "      <td>51.77</td>\n",
       "    </tr>\n",
       "    <tr>\n",
       "      <th>1</th>\n",
       "      <td>Tipping the Velvet</td>\n",
       "      <td>53.74</td>\n",
       "    </tr>\n",
       "    <tr>\n",
       "      <th>2</th>\n",
       "      <td>Soumission</td>\n",
       "      <td>50.10</td>\n",
       "    </tr>\n",
       "    <tr>\n",
       "      <th>3</th>\n",
       "      <td>Sharp Objects</td>\n",
       "      <td>47.82</td>\n",
       "    </tr>\n",
       "    <tr>\n",
       "      <th>4</th>\n",
       "      <td>Sapiens: A Brief History ...</td>\n",
       "      <td>54.23</td>\n",
       "    </tr>\n",
       "    <tr>\n",
       "      <th>...</th>\n",
       "      <td>...</td>\n",
       "      <td>...</td>\n",
       "    </tr>\n",
       "    <tr>\n",
       "      <th>995</th>\n",
       "      <td>Alice in Wonderland (Alice's ...</td>\n",
       "      <td>55.53</td>\n",
       "    </tr>\n",
       "    <tr>\n",
       "      <th>996</th>\n",
       "      <td>Ajin: Demi-Human, Volume 1 ...</td>\n",
       "      <td>57.06</td>\n",
       "    </tr>\n",
       "    <tr>\n",
       "      <th>997</th>\n",
       "      <td>A Spy's Devotion (The ...</td>\n",
       "      <td>16.97</td>\n",
       "    </tr>\n",
       "    <tr>\n",
       "      <th>998</th>\n",
       "      <td>1st to Die (Women's ...</td>\n",
       "      <td>53.98</td>\n",
       "    </tr>\n",
       "    <tr>\n",
       "      <th>999</th>\n",
       "      <td>1,000 Places to See ...</td>\n",
       "      <td>26.08</td>\n",
       "    </tr>\n",
       "  </tbody>\n",
       "</table>\n",
       "<p>1000 rows × 2 columns</p>\n",
       "</div>"
      ],
      "text/plain": [
       "                            Book_name  Price\n",
       "0                  A Light in the ...  51.77\n",
       "1                  Tipping the Velvet  53.74\n",
       "2                          Soumission  50.10\n",
       "3                       Sharp Objects  47.82\n",
       "4        Sapiens: A Brief History ...  54.23\n",
       "..                                ...    ...\n",
       "995  Alice in Wonderland (Alice's ...  55.53\n",
       "996    Ajin: Demi-Human, Volume 1 ...  57.06\n",
       "997         A Spy's Devotion (The ...  16.97\n",
       "998           1st to Die (Women's ...  53.98\n",
       "999           1,000 Places to See ...  26.08\n",
       "\n",
       "[1000 rows x 2 columns]"
      ]
     },
     "execution_count": 254,
     "metadata": {},
     "output_type": "execute_result"
    }
   ],
   "source": [
    "table=[books_titles,prices]\n",
    "df = pd.DataFrame(table).transpose()\n",
    "df.columns=['Book_name', 'Price']\n",
    "df.to_csv('BooksName_Prices.csv')\n",
    "df"
   ]
  }
 ],
 "metadata": {
  "kernelspec": {
   "display_name": "Python 3 (ipykernel)",
   "language": "python",
   "name": "python3"
  },
  "language_info": {
   "codemirror_mode": {
    "name": "ipython",
    "version": 3
   },
   "file_extension": ".py",
   "mimetype": "text/x-python",
   "name": "python",
   "nbconvert_exporter": "python",
   "pygments_lexer": "ipython3",
   "version": "3.8.3"
  }
 },
 "nbformat": 4,
 "nbformat_minor": 5
}
