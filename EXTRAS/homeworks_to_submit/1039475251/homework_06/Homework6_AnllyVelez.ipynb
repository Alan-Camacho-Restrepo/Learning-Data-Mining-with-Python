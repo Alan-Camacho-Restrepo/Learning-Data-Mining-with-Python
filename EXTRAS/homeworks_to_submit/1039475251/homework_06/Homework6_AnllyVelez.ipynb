{
 "cells": [
  {
   "cell_type": "code",
   "execution_count": 512,
   "id": "fe801095",
   "metadata": {},
   "outputs": [],
   "source": [
    "import json\n",
    "import requests\n",
    "import pandas as pd\n",
    "import numpy as np\n",
    "import wget"
   ]
  },
  {
   "cell_type": "markdown",
   "id": "67a2217e",
   "metadata": {},
   "source": [
    "#     <center> HOMEWORK 6  </center>"
   ]
  },
  {
   "cell_type": "markdown",
   "id": "21eaa555",
   "metadata": {},
   "source": [
    "### En un notebook de jupyter desarrolle los siguientes pasosDescargue el JSON con la lista de paises del siguiente link:https://datahub.io/core/country-list/r/data.jsony escoja aleatoriamente un país de Europa"
   ]
  },
  {
   "cell_type": "code",
   "execution_count": 513,
   "id": "fdc06c56",
   "metadata": {},
   "outputs": [
    {
     "name": "stdout",
     "output_type": "stream",
     "text": [
      "\r",
      "  0% [                                                            ]    0 / 9576\r",
      " 85% [...................................................         ] 8192 / 9576\r",
      "100% [............................................................] 9576 / 9576"
     ]
    }
   ],
   "source": [
    "# Descargando el JSON\n",
    "filename = wget.download('https://pkgstore.datahub.io/core/country-list/data_json/data/8c458f2d15d9f2119654b29ede6e45b8/data_json.json')"
   ]
  },
  {
   "cell_type": "code",
   "execution_count": 514,
   "id": "9feed12b",
   "metadata": {},
   "outputs": [],
   "source": [
    "#Abriendo el archivo descargado y cargandolo como json\n",
    "paises_json = json.load(open('data_json.json'))"
   ]
  },
  {
   "cell_type": "code",
   "execution_count": 515,
   "id": "62901945",
   "metadata": {},
   "outputs": [
    {
     "name": "stdout",
     "output_type": "stream",
     "text": [
      "El país elegido aleatoriamente es: Réunion\n"
     ]
    }
   ],
   "source": [
    "#Eligiendo aleatoriamente uno de los paises del json\n",
    "tamano_json= len(paises_json)\n",
    "index_elegido = np.random.randint(tamano_json) \n",
    "pais = paises_json[index_elegido]['Name'] \n",
    "print(\"El país elegido aleatoriamente es:\", pais)"
   ]
  },
  {
   "cell_type": "code",
   "execution_count": 516,
   "id": "d4244704",
   "metadata": {},
   "outputs": [],
   "source": [
    "#Para un pais en particular \n",
    "pais='Finland'\n",
    "#pais='Italia'\n",
    "#pais='Germany'"
   ]
  },
  {
   "cell_type": "markdown",
   "id": "4c3dfe58",
   "metadata": {},
   "source": [
    "### Use los diferentes API endpoints de inspire-hep ' https://inspirehep.net/ '  Para extraer la lista de investigadores de una institución de ese país  en esa base de datos. Para ello:"
   ]
  },
  {
   "cell_type": "markdown",
   "id": "a952f64c",
   "metadata": {},
   "source": [
    "### A) Use el API de institutions para extraer la lista de instituciones del país, por ejemplo: colombia (mejor si es Europa, por completo de datos ) https://inspirehep.net/api/institutions?q=colombia"
   ]
  },
  {
   "cell_type": "code",
   "execution_count": 517,
   "id": "8e9cc5de",
   "metadata": {},
   "outputs": [],
   "source": [
    "institution_link = requests.get(\"https://inspirehep.net/api/institutions?q={}\".format(pais))"
   ]
  },
  {
   "cell_type": "code",
   "execution_count": 518,
   "id": "512a5996",
   "metadata": {},
   "outputs": [
    {
     "name": "stdout",
     "output_type": "stream",
     "text": [
      "Las instituciones de ese país son: ['Helsinki, Academy of Finland', 'UEF, Kuopio', 'Unlisted, FI', 'VALMET Automation, Tampere', 'Nevanlinna Inst., Helsinki', 'IVO Intl., Helsinki', 'VTT Electronics, Espoo', 'Espoo, Tech. Research Ctr.', 'Amateur Astron. Assoc., Seulaset', 'Picker Nordstar, Helsinki']\n"
     ]
    }
   ],
   "source": [
    "## Extrayendo la lista de las instituciones del pais \n",
    "inst_names= [institution.get('metadata').get('legacy_ICN') for institution in institution_link.json().get('hits').get('hits')]\n",
    "print(\"Las instituciones de ese país son:\",inst_names)"
   ]
  },
  {
   "cell_type": "markdown",
   "id": "53581903",
   "metadata": {},
   "source": [
    "### Para la primera institución con 'number_of_papers > 0', obtenga el valor 'legacy_IC'.\n",
    "Si ninguna institución satisface la condición number_of_papers > 0, escoja de nuevo otro país aleatorio y repita el proceso"
   ]
  },
  {
   "cell_type": "code",
   "execution_count": 519,
   "id": "2a413317",
   "metadata": {},
   "outputs": [
    {
     "name": "stdout",
     "output_type": "stream",
     "text": [
      "La primera institución con almenos 1 paper es: Helsinki, Academy of Finland\n"
     ]
    }
   ],
   "source": [
    "## Obteniendo el numero de papers por institucion\n",
    "names=np.array(inst_names)\n",
    "num_papers = np.array([institution.get('metadata').get('number_of_papers') for institution in institution_link.json().get('hits').get('hits')])\n",
    "\n",
    "legacy_ICN=names[num_papers>0][0] \n",
    "\n",
    "print(\"La primera institución con almenos 1 paper es:\", legacy_ICN)"
   ]
  },
  {
   "cell_type": "markdown",
   "id": "76573185",
   "metadata": {},
   "source": [
    "### B) Con el API de literatura obtenga el JSON con los artículos de menos de 10 autores usando el \"legacy_ICN\" de la siguiente manera\n",
    "\n",
    "https://inspirehep.net/api/literature?sort=mostrecent&page=1&q=aff+Colombia,+U.+Natl.+and+ac+1->+10\n",
    "\n",
    "aff: usa el valor de legacy_ICN\n",
    "and: es un operador lógico\n",
    "ac: establece los autores entre 1 y 10"
   ]
  },
  {
   "cell_type": "code",
   "execution_count": 520,
   "id": "8046802e",
   "metadata": {},
   "outputs": [],
   "source": [
    "#literature_link =\"https://inspirehep.net/api/literature?sort=mostrecent&page=1&q=aff+{},+{}+and+ac+1->+10\".format(pais,legacy_ICN.replace(' ','+'))\n",
    "literature_link =\"https://inspirehep.net/api/literature?sort=mostrecent&page=1&q=aff+{}+and+ac+1->+10\".format(legacy_ICN.replace(' ','+'))\n",
    "literature_link = requests.get(literature_link)    "
   ]
  },
  {
   "cell_type": "markdown",
   "id": "e3a880f9",
   "metadata": {},
   "source": [
    "### C) Para al menos un artículo de esa institución, extraiga el URL del perfil de cada autor de esa institución que se encuentra dentro del campo \"authors\" en \"record\" y luego en \"$ref\".\n",
    "Por ejemplo https://inspirehep.net/api/authors/1010271"
   ]
  },
  {
   "cell_type": "code",
   "execution_count": 521,
   "id": "5f70f6e2",
   "metadata": {},
   "outputs": [],
   "source": [
    "#Obteniendo los articulos \n",
    "articles = [article.get('metadata') for article in literature_link.json().get('hits').get('hits')]\n",
    "#len(articles)"
   ]
  },
  {
   "cell_type": "code",
   "execution_count": 522,
   "id": "c6b93803",
   "metadata": {},
   "outputs": [
    {
     "data": {
      "text/plain": [
       "['https://inspirehep.net/api/authors/1074574',\n",
       " 'https://inspirehep.net/api/authors/1027900',\n",
       " 'https://inspirehep.net/api/authors/1279546',\n",
       " 'https://inspirehep.net/api/authors/1616462']"
      ]
     },
     "execution_count": 522,
     "metadata": {},
     "output_type": "execute_result"
    }
   ],
   "source": [
    "#Obteniendo los links de los perfiles de los autores\n",
    "auth_profile = [author.get('record').get('$ref') for author in articles[0].get('authors')]\n",
    "auth_profile"
   ]
  },
  {
   "cell_type": "markdown",
   "id": "78a4c1e0",
   "metadata": {},
   "source": [
    "### D) Con cada uno de los datos del resultado del API para cada perfil construya una tabla con los siguientes columnas (puede que alguno de los datos no esté disponible): \n",
    "Nombre Completo \n",
    "Correo electrónico\n",
    "posición más reciente (la primera  que aparece en la lista \"positions\" del JSON) con su correspondiente:\n",
    "rango \n",
    "institución \n",
    "fecha de inicio \n",
    "fecha de finalización"
   ]
  },
  {
   "cell_type": "code",
   "execution_count": 523,
   "id": "d3798fce",
   "metadata": {},
   "outputs": [],
   "source": [
    "#Definiendo la funcion para extraer los datos del JSON\n",
    "def auth_inf(auth_link):\n",
    "    \n",
    "    meta = requests.get(auth_link).json().get('metadata')\n",
    "\n",
    "    name = meta.get('name').get('value')\n",
    "    try: email = meta.get('email_addresses')[0].get('value') \n",
    "    except: email = 'None'    \n",
    "    try: last_position = meta.get('positions')[0].get('rank') \n",
    "    except: last_position = 'None' \n",
    "    try: institution = meta.get('positions')[0].get('institution') \n",
    "    except: institution = 'None' \n",
    "    try: start = meta.get('positions')[0].get('start_date')\n",
    "    except: start = 'None' \n",
    "    try: end = meta.get('positions')[0].get('end_date')\n",
    "    except:  end  = 'None' \n",
    "    \n",
    "    return name, email, last_position, institution, start, end"
   ]
  },
  {
   "cell_type": "code",
   "execution_count": 524,
   "id": "92c46d23",
   "metadata": {},
   "outputs": [],
   "source": [
    "#Recorriendo los perfiles de cada autor\n",
    "name = []\n",
    "email = []\n",
    "last_position = []\n",
    "institution = []\n",
    "start = []\n",
    "end = []\n",
    "\n",
    "for author in auth_profile:\n",
    "    \n",
    "    n,e,lp,i,s,en = auth_inf(author) \n",
    "    name.append(n)\n",
    "    email.append(e)\n",
    "    last_position.append(lp)\n",
    "    institution.append(i)\n",
    "    start.append(s)\n",
    "    end.append(en)  "
   ]
  },
  {
   "cell_type": "code",
   "execution_count": 525,
   "id": "1809f0c0",
   "metadata": {},
   "outputs": [
    {
     "data": {
      "text/html": [
       "<div>\n",
       "<style scoped>\n",
       "    .dataframe tbody tr th:only-of-type {\n",
       "        vertical-align: middle;\n",
       "    }\n",
       "\n",
       "    .dataframe tbody tr th {\n",
       "        vertical-align: top;\n",
       "    }\n",
       "\n",
       "    .dataframe thead th {\n",
       "        text-align: right;\n",
       "    }\n",
       "</style>\n",
       "<table border=\"1\" class=\"dataframe\">\n",
       "  <thead>\n",
       "    <tr style=\"text-align: right;\">\n",
       "      <th></th>\n",
       "      <th>name</th>\n",
       "      <th>email</th>\n",
       "      <th>last_position</th>\n",
       "      <th>institution</th>\n",
       "      <th>start</th>\n",
       "      <th>end</th>\n",
       "    </tr>\n",
       "  </thead>\n",
       "  <tbody>\n",
       "    <tr>\n",
       "      <th>0</th>\n",
       "      <td>Mäntysaari, Heikki</td>\n",
       "      <td>heikki.mantysaari@jyu.fi</td>\n",
       "      <td>JUNIOR</td>\n",
       "      <td>Jyvaskyla U.</td>\n",
       "      <td>2021</td>\n",
       "      <td>None</td>\n",
       "    </tr>\n",
       "    <tr>\n",
       "      <th>1</th>\n",
       "      <td>Schenke, Björn Peter</td>\n",
       "      <td>bschenke@bnl.gov</td>\n",
       "      <td>SENIOR</td>\n",
       "      <td>Brookhaven</td>\n",
       "      <td>2017</td>\n",
       "      <td>None</td>\n",
       "    </tr>\n",
       "    <tr>\n",
       "      <th>2</th>\n",
       "      <td>Shen, Chun</td>\n",
       "      <td>chunshen@wayne.edu</td>\n",
       "      <td>JUNIOR</td>\n",
       "      <td>Wayne State U.</td>\n",
       "      <td>2018</td>\n",
       "      <td>None</td>\n",
       "    </tr>\n",
       "    <tr>\n",
       "      <th>3</th>\n",
       "      <td>Zhao, Wenbin</td>\n",
       "      <td>1501110084@pku.edu.cn</td>\n",
       "      <td>None</td>\n",
       "      <td>Hua-Zhong Normal U.</td>\n",
       "      <td>2020</td>\n",
       "      <td>2021</td>\n",
       "    </tr>\n",
       "  </tbody>\n",
       "</table>\n",
       "</div>"
      ],
      "text/plain": [
       "                   name                     email last_position  \\\n",
       "0    Mäntysaari, Heikki  heikki.mantysaari@jyu.fi        JUNIOR   \n",
       "1  Schenke, Björn Peter          bschenke@bnl.gov        SENIOR   \n",
       "2            Shen, Chun        chunshen@wayne.edu        JUNIOR   \n",
       "3          Zhao, Wenbin     1501110084@pku.edu.cn          None   \n",
       "\n",
       "           institution start   end  \n",
       "0         Jyvaskyla U.  2021  None  \n",
       "1           Brookhaven  2017  None  \n",
       "2       Wayne State U.  2018  None  \n",
       "3  Hua-Zhong Normal U.  2020  2021  "
      ]
     },
     "execution_count": 525,
     "metadata": {},
     "output_type": "execute_result"
    }
   ],
   "source": [
    "#Creando el diccionario para la tabla de pandas con los datos\n",
    "dic = {'name':name,\n",
    "       'email':email,\n",
    "       'last_position':last_position,\n",
    "       'institution':institution,\n",
    "       'start':start,\n",
    "       'end':end,\n",
    "       }\n",
    "dataframe = pd.DataFrame(dic) \n",
    "dataframe.head()"
   ]
  }
 ],
 "metadata": {
  "kernelspec": {
   "display_name": "Python 3 (ipykernel)",
   "language": "python",
   "name": "python3"
  },
  "language_info": {
   "codemirror_mode": {
    "name": "ipython",
    "version": 3
   },
   "file_extension": ".py",
   "mimetype": "text/x-python",
   "name": "python",
   "nbconvert_exporter": "python",
   "pygments_lexer": "ipython3",
   "version": "3.8.3"
  }
 },
 "nbformat": 4,
 "nbformat_minor": 5
}
