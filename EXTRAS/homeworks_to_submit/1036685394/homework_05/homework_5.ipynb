{
 "cells": [
  {
   "cell_type": "code",
   "execution_count": 1,
   "id": "abbda650",
   "metadata": {},
   "outputs": [],
   "source": [
    "import json\n",
    "import requests\n",
    "import numpy as np\n",
    "import pandas as pd"
   ]
  },
  {
   "cell_type": "markdown",
   "id": "fe39c456",
   "metadata": {},
   "source": [
    "A) Use el API de institutions para extraer la lista de instituciones del país, por ejemplo: colombia (mejor si es Europa, por completo de datos )\n",
    "\n",
    "Para la primera institución con\n",
    "\n",
    "number_of_papers > 0\n",
    "\n",
    "Obtenga el valor\n",
    "\n",
    "legacy_ICN:"
   ]
  },
  {
   "cell_type": "code",
   "execution_count": 121,
   "id": "36616b83",
   "metadata": {},
   "outputs": [],
   "source": [
    "Country = \"Finland\"\n",
    "URL = \"https://inspirehep.net/api/institutions?q={}\".format(Country)"
   ]
  },
  {
   "cell_type": "code",
   "execution_count": 122,
   "id": "45358e19",
   "metadata": {},
   "outputs": [],
   "source": [
    "institution_link = requests.get(URL)"
   ]
  },
  {
   "cell_type": "code",
   "execution_count": 123,
   "id": "0e6b3c9e",
   "metadata": {
    "scrolled": true
   },
   "outputs": [
    {
     "data": {
      "text/plain": [
       "'Helsinki, Academy of Finland'"
      ]
     },
     "execution_count": 123,
     "metadata": {},
     "output_type": "execute_result"
    }
   ],
   "source": [
    "legacy_ICN = np.array([institution.get('metadata').get('legacy_ICN') for institution in institution_link.json().get('hits').get('hits')])\n",
    "number_of_papers = np.array([institution.get('metadata').get('number_of_papers') for institution in institution_link.json().get('hits').get('hits')])\n",
    "\n",
    "legacy_ICN=legacy_ICN[number_of_papers>0][0] #first institution with at least one article\n",
    "legacy_ICN"
   ]
  },
  {
   "cell_type": "markdown",
   "id": "8df4fed7",
   "metadata": {},
   "source": [
    "B) Con el API de literatura obtenga el JSON con los artículos de menos de 10 autores usando el \"legacy_ICN\" de la siguiente manera\n",
    "\n",
    "\n",
    "https://inspirehep.net/api/literature?sort=mostrecent&page=1&q=aff+Colombia,+U.+Natl.+and+ac+1->+10\n",
    "\n",
    "\n",
    "aff: usa el valor de legacy_ICN\n",
    "\n",
    "and: es un operador lógico\n",
    "\n",
    "ac: establece los autores entre 1 y 10"
   ]
  },
  {
   "cell_type": "code",
   "execution_count": 124,
   "id": "673f1a9c",
   "metadata": {},
   "outputs": [],
   "source": [
    "literature_link =\"https://inspirehep.net/api/literature?sort=mostrecent&page=1&q=aff+{}+and+ac+1->+10\".format(legacy_ICN.replace(' ','+'))\n",
    "literature_link = requests.get(literature_link)"
   ]
  },
  {
   "cell_type": "markdown",
   "id": "f0a5d1ad",
   "metadata": {},
   "source": [
    "C) Para al menos un artículo de esa institución, extraiga el URL del perfil de cada autor de esa institución que se encuentra dentro del campo \"authors\" en \"record\" y luego en \"$ref\". Por ejemplo"
   ]
  },
  {
   "cell_type": "code",
   "execution_count": 125,
   "id": "00c586dc",
   "metadata": {},
   "outputs": [
    {
     "data": {
      "text/plain": [
       "10"
      ]
     },
     "execution_count": 125,
     "metadata": {},
     "output_type": "execute_result"
    }
   ],
   "source": [
    "articles = [article.get('metadata') for article in literature_link.json().get('hits').get('hits')]\n",
    "len(articles)"
   ]
  },
  {
   "cell_type": "code",
   "execution_count": 130,
   "id": "31bda90b",
   "metadata": {},
   "outputs": [
    {
     "data": {
      "text/plain": [
       "['https://inspirehep.net/api/authors/989957',\n",
       " 'https://inspirehep.net/api/authors/994387',\n",
       " 'https://inspirehep.net/api/authors/991666']"
      ]
     },
     "execution_count": 130,
     "metadata": {},
     "output_type": "execute_result"
    }
   ],
   "source": [
    "#extracting authors for first article\n",
    "authors0_profile = [author.get('record').get('$ref') for author in articles[3].get('authors')]\n",
    "authors0_profile"
   ]
  },
  {
   "cell_type": "markdown",
   "id": "ab42c05b",
   "metadata": {},
   "source": [
    "D) Con cada uno de los datos del resultado del API para cada perfil construya una tabla con los siguientes columnas (puede que alguno de los datos no esté disponible): \n",
    "\n",
    "Nombre Completo\n",
    "\n",
    "Correo electrónico\n",
    "\n",
    "posición más reciente (la primera  que aparece en la lista \"positions\" del JSON) con su correspondiente:\n",
    "rango \n",
    "\n",
    "institución \n",
    "\n",
    "fecha de inicio \n",
    "\n",
    "fecha de finalización"
   ]
  },
  {
   "cell_type": "code",
   "execution_count": 152,
   "id": "315024da",
   "metadata": {},
   "outputs": [],
   "source": [
    "def get_info(URL):\n",
    "    info = requests.get(URL).json().get('metadata')\n",
    "\n",
    "    name = info.get('name').get('value')\n",
    "\n",
    "    email = info.get('email_addresses')[0].get('value') #first valid email adress\n",
    " \n",
    "    last_position = info.get('positions')[0].get('rank') #last position\n",
    "\n",
    "    intitution = info.get('positions')[0].get('institution') #institution where they  had their last position\n",
    "\n",
    "    start = info.get('positions')[0].get('start_date')\n",
    "\n",
    "    end = info.get('positions')[0].get('end_date')\n",
    "    \n",
    "    print('\\n Name : {} \\n email : {} \\n last_position : {} \\n institution : {} \\n start_date : {} \\n end_date : {}\\n'.format(name , email, last_position,intitution,start,end))"
   ]
  },
  {
   "cell_type": "code",
   "execution_count": 150,
   "id": "33b816cc",
   "metadata": {},
   "outputs": [
    {
     "name": "stdout",
     "output_type": "stream",
     "text": [
      "For the first article found: 'Bayesian inference of the fluctuating proton shape in DIS and hadronic collisions' of the institution: 'Helsinki, Academy of Finland', the authors are\n",
      "\n",
      " Name : Schiavilla, Rocco \n",
      " email : [{'value': 'schiavil@jlab.org', 'current': True}] \n",
      " last_position : SENIOR \n",
      " institution : Jefferson Lab \n",
      " start_date : None \n",
      " end_date : None\n",
      "\n",
      "\n",
      " Name : Pandharipande, Vijay R. \n",
      " email : None \n",
      " last_position : None \n",
      " institution : Illinois U., Urbana \n",
      " start_date : None \n",
      " end_date : None\n",
      "\n",
      "\n",
      " Name : Riska, Dan-Olof \n",
      " email : [{'value': 'riska@pcu.helsinki.fi', 'current': False}] \n",
      " last_position : STAFF \n",
      " institution : Helsinki Inst. of Phys. \n",
      " start_date : 2000 \n",
      " end_date : None\n",
      "\n"
     ]
    }
   ],
   "source": [
    "print(\"For the first article found: '{}' of the institution: '{}', the authors are\".format(articles[0].get('titles')[0].get('title'),legacy_ICN))\n",
    "\n",
    "for author in authors0_profile:\n",
    "    get_info(author)"
   ]
  },
  {
   "cell_type": "code",
   "execution_count": 148,
   "id": "c0e6908c",
   "metadata": {},
   "outputs": [
    {
     "ename": "TypeError",
     "evalue": "'NoneType' object is not subscriptable",
     "output_type": "error",
     "traceback": [
      "\u001b[0;31m---------------------------------------------------------------------------\u001b[0m",
      "\u001b[0;31mTypeError\u001b[0m                                 Traceback (most recent call last)",
      "Input \u001b[0;32mIn [148]\u001b[0m, in \u001b[0;36m<cell line: 7>\u001b[0;34m()\u001b[0m\n\u001b[1;32m      3\u001b[0m info \u001b[38;5;241m=\u001b[39m requests\u001b[38;5;241m.\u001b[39mget(URL)\u001b[38;5;241m.\u001b[39mjson()\u001b[38;5;241m.\u001b[39mget(\u001b[38;5;124m'\u001b[39m\u001b[38;5;124mmetadata\u001b[39m\u001b[38;5;124m'\u001b[39m)\n\u001b[1;32m      5\u001b[0m name \u001b[38;5;241m=\u001b[39m info\u001b[38;5;241m.\u001b[39mget(\u001b[38;5;124m'\u001b[39m\u001b[38;5;124mname\u001b[39m\u001b[38;5;124m'\u001b[39m)\u001b[38;5;241m.\u001b[39mget(\u001b[38;5;124m'\u001b[39m\u001b[38;5;124mvalue\u001b[39m\u001b[38;5;124m'\u001b[39m)\n\u001b[0;32m----> 7\u001b[0m email \u001b[38;5;241m=\u001b[39m \u001b[43minfo\u001b[49m\u001b[38;5;241;43m.\u001b[39;49m\u001b[43mget\u001b[49m\u001b[43m(\u001b[49m\u001b[38;5;124;43m'\u001b[39;49m\u001b[38;5;124;43memail_addresses\u001b[39;49m\u001b[38;5;124;43m'\u001b[39;49m\u001b[43m)\u001b[49m\u001b[43m[\u001b[49m\u001b[38;5;241;43m0\u001b[39;49m\u001b[43m]\u001b[49m\u001b[38;5;241m.\u001b[39mget(\u001b[38;5;124m'\u001b[39m\u001b[38;5;124mvalue\u001b[39m\u001b[38;5;124m'\u001b[39m) \u001b[38;5;66;03m#first valid email adress\u001b[39;00m\n\u001b[1;32m      9\u001b[0m last_position \u001b[38;5;241m=\u001b[39m info\u001b[38;5;241m.\u001b[39mget(\u001b[38;5;124m'\u001b[39m\u001b[38;5;124mpositions\u001b[39m\u001b[38;5;124m'\u001b[39m)[\u001b[38;5;241m0\u001b[39m]\u001b[38;5;241m.\u001b[39mget(\u001b[38;5;124m'\u001b[39m\u001b[38;5;124mrank\u001b[39m\u001b[38;5;124m'\u001b[39m) \u001b[38;5;66;03m#last position\u001b[39;00m\n\u001b[1;32m     11\u001b[0m intitution \u001b[38;5;241m=\u001b[39m info\u001b[38;5;241m.\u001b[39mget(\u001b[38;5;124m'\u001b[39m\u001b[38;5;124mpositions\u001b[39m\u001b[38;5;124m'\u001b[39m)[\u001b[38;5;241m0\u001b[39m]\u001b[38;5;241m.\u001b[39mget(\u001b[38;5;124m'\u001b[39m\u001b[38;5;124minstitution\u001b[39m\u001b[38;5;124m'\u001b[39m) \u001b[38;5;66;03m#institution where they  had their last position\u001b[39;00m\n",
      "\u001b[0;31mTypeError\u001b[0m: 'NoneType' object is not subscriptable"
     ]
    }
   ],
   "source": [
    "URL = authors0_profile[1]\n",
    "\n",
    "info = requests.get(URL).json().get('metadata')\n",
    "\n",
    "name = info.get('name').get('value')\n",
    "\n",
    "email = info.get('email_addresses')[0].get('value') #first valid email adress\n",
    "\n",
    "last_position = info.get('positions')[0].get('rank') #last position\n",
    "\n",
    "intitution = info.get('positions')[0].get('institution') #institution where they  had their last position\n",
    "\n",
    "start = info.get('positions')[0].get('start_date')\n",
    "\n",
    "end = info.get('positions')[0].get('end_date')"
   ]
  },
  {
   "cell_type": "code",
   "execution_count": 139,
   "id": "e3bea07f",
   "metadata": {},
   "outputs": [
    {
     "data": {
      "text/plain": [
       "{'value': 'schiavil@jlab.org', 'current': True}"
      ]
     },
     "execution_count": 139,
     "metadata": {},
     "output_type": "execute_result"
    }
   ],
   "source": [
    "info.get('email_addresses')[0]"
   ]
  },
  {
   "cell_type": "code",
   "execution_count": null,
   "id": "3d901fbd",
   "metadata": {},
   "outputs": [],
   "source": []
  }
 ],
 "metadata": {
  "kernelspec": {
   "display_name": "Python 3 (ipykernel)",
   "language": "python",
   "name": "python3"
  },
  "language_info": {
   "codemirror_mode": {
    "name": "ipython",
    "version": 3
   },
   "file_extension": ".py",
   "mimetype": "text/x-python",
   "name": "python",
   "nbconvert_exporter": "python",
   "pygments_lexer": "ipython3",
   "version": "3.10.4"
  }
 },
 "nbformat": 4,
 "nbformat_minor": 5
}
