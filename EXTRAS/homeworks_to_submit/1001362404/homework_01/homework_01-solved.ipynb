{
 "cells": [
  {
   "cell_type": "markdown",
   "id": "mexican-research",
   "metadata": {
    "cell_id": "06205b76fb43436884971742351770df",
    "deepnote_cell_height": 70,
    "deepnote_cell_type": "markdown",
    "tags": []
   },
   "source": [
    "## Homework 1"
   ]
  },
  {
   "cell_type": "markdown",
   "id": "massive-membership",
   "metadata": {
    "cell_id": "69fd5a36-7dac-4867-a95a-bb6de515b2d6",
    "deepnote_cell_height": 74.80000305175781,
    "deepnote_cell_type": "markdown"
   },
   "source": [
    "From web (https://www.gutenberg.org/browse/scores/top) download the book The Adventures of Huckleberry Finn, by Mark Twain (en formato TXT)"
   ]
  },
  {
   "cell_type": "markdown",
   "id": "olympic-young",
   "metadata": {},
   "source": [
    "1. Downloading the book in plain text forma utf-8 from Project Gutenberg web page."
   ]
  },
  {
   "cell_type": "code",
   "execution_count": 1,
   "id": "coral-crazy",
   "metadata": {},
   "outputs": [
    {
     "name": "stdout",
     "output_type": "stream",
     "text": [
      "<class 'str'>\n"
     ]
    }
   ],
   "source": [
    "#Import library for opening URLs\n",
    "from urllib.request import urlopen\n",
    "contents = urlopen(\"https://www.gutenberg.org/files/76/76-0.txt\").read().decode('utf-8')\n",
    "print(type(contents))\n"
   ]
  },
  {
   "cell_type": "markdown",
   "id": "statutory-bruce",
   "metadata": {
    "cell_id": "e6ffd77e8b7c42e28f4c8495d417c53e",
    "deepnote_cell_height": 74.80000305175781,
    "deepnote_cell_type": "markdown",
    "tags": []
   },
   "source": [
    " a) Analyze the book by counting the appearance of three main character names: Jim, Tom, Huck through the chapters of the book.\n",
    " \n",
    " First, we create some useful functions to get the asked information."
   ]
  },
  {
   "cell_type": "code",
   "execution_count": 2,
   "id": "dd426498",
   "metadata": {},
   "outputs": [],
   "source": [
    "# Function to convert integer to Roman values\n",
    "def to_Roman(number):\n",
    "    num = [1, 4, 5, 9, 10, 40, 50, 90,\n",
    "        100, 400, 500, 900, 1000]\n",
    "    sym = [\"I\", \"IV\", \"V\", \"IX\", \"X\", \"XL\",\n",
    "        \"L\", \"XC\", \"C\", \"CD\", \"D\", \"CM\", \"M\"]\n",
    "    \n",
    "    i = len(sym)-1\n",
    "    \n",
    "    rnum = \"\"\n",
    "\n",
    "    while number:\n",
    "        div = number // num[i] #Floor division\n",
    "        number %= num[i]\n",
    "\n",
    "        while div:            \n",
    "            rnum+=sym[i]\n",
    "            div -= 1\n",
    "        i -= 1\n",
    "    return rnum"
   ]
  },
  {
   "cell_type": "code",
   "execution_count": 3,
   "id": "684a7f02",
   "metadata": {},
   "outputs": [],
   "source": [
    "def get_chapter(i):\n",
    "    \n",
    "    end = \"\\r\\n\\r\\n\\r\\n\\r\\n\\r\\n\"\n",
    "    ap = \"\\r\\n\\r\\n\\r\\n\"\n",
    "    \n",
    "    c = 'CHAPTER '+to_Roman(i)+'.'+ap\n",
    "    start = contents.find(c)\n",
    "    stop = contents.find(end, start)\n",
    "    \n",
    "    chapter = contents[start:stop]\n",
    "    \n",
    "    return chapter"
   ]
  },
  {
   "cell_type": "code",
   "execution_count": 4,
   "id": "30ec2183",
   "metadata": {},
   "outputs": [],
   "source": [
    "#For counting appearances in a selected chapter\n",
    "def appearance(name, chapter_num):\n",
    "    text = get_chapter(chapter_num)\n",
    "    app = text.count(name)\n",
    "    \n",
    "    return app\n"
   ]
  },
  {
   "cell_type": "code",
   "execution_count": 5,
   "id": "8f46a6f5",
   "metadata": {},
   "outputs": [],
   "source": [
    "Until = 42\n",
    "capitulos = [k for k in range (1,Until+1)]\n",
    "personajes = ['Tom', 'Jim', 'Huck']"
   ]
  },
  {
   "cell_type": "code",
   "execution_count": 6,
   "id": "eaf5ebd4",
   "metadata": {},
   "outputs": [],
   "source": [
    "total_counts = []\n",
    "for n in capitulos:\n",
    "    counts = []\n",
    "    for nombre in personajes:        \n",
    "        apr = appearance(nombre,n)\n",
    "        counts.append(apr)\n",
    "    total_counts.append(counts) \n",
    "               "
   ]
  },
  {
   "cell_type": "code",
   "execution_count": 7,
   "id": "9f1273c0",
   "metadata": {},
   "outputs": [
    {
     "name": "stdout",
     "output_type": "stream",
     "text": [
      "[[6, 0, 3], [24, 16, 2], [5, 0, 2], [0, 8, 1], [0, 0, 0], [0, 0, 2], [2, 0, 0], [2, 22, 5], [0, 11, 1], [0, 19, 0], [2, 4, 4], [3, 20, 0], [1, 9, 0], [0, 6, 5], [0, 16, 7], [0, 28, 10], [3, 0, 0], [5, 10, 1], [0, 13, 0], [0, 18, 1], [0, 1, 0], [0, 0, 0], [0, 9, 7], [0, 5, 1], [0, 0, 0], [0, 0, 0], [0, 0, 0], [1, 1, 0], [0, 3, 0], [0, 5, 0], [1, 17, 2], [4, 0, 0], [19, 5, 0], [15, 17, 4], [14, 18, 8], [18, 23, 1], [9, 4, 0], [32, 27, 2], [11, 10, 0], [11, 13, 3], [8, 0, 0], [30, 12, 2]]\n"
     ]
    }
   ],
   "source": [
    "print(total_counts)"
   ]
  },
  {
   "cell_type": "code",
   "execution_count": 8,
   "id": "a1f63179",
   "metadata": {},
   "outputs": [],
   "source": [
    "import numpy as np\n",
    "arr_counts = np.array(total_counts)"
   ]
  },
  {
   "cell_type": "markdown",
   "id": "pharmaceutical-optimum",
   "metadata": {
    "cell_id": "00001-9f51208c-2390-4562-b4e4-fad9f42485bc",
    "deepnote_cell_height": 74.80000305175781,
    "deepnote_cell_type": "markdown"
   },
   "source": [
    "b) Saving results in a Pandas DataFrame to visualize as below:"
   ]
  },
  {
   "cell_type": "code",
   "execution_count": 9,
   "id": "cc2ae153",
   "metadata": {},
   "outputs": [
    {
     "data": {
      "text/html": [
       "<div>\n",
       "<style scoped>\n",
       "    .dataframe tbody tr th:only-of-type {\n",
       "        vertical-align: middle;\n",
       "    }\n",
       "\n",
       "    .dataframe tbody tr th {\n",
       "        vertical-align: top;\n",
       "    }\n",
       "\n",
       "    .dataframe thead th {\n",
       "        text-align: right;\n",
       "    }\n",
       "</style>\n",
       "<table border=\"1\" class=\"dataframe\">\n",
       "  <thead>\n",
       "    <tr style=\"text-align: right;\">\n",
       "      <th></th>\n",
       "      <th>Chapter_1</th>\n",
       "      <th>Chapter_2</th>\n",
       "      <th>Chapter_3</th>\n",
       "      <th>Chapter_4</th>\n",
       "      <th>Chapter_5</th>\n",
       "      <th>Chapter_6</th>\n",
       "      <th>Chapter_7</th>\n",
       "      <th>Chapter_8</th>\n",
       "      <th>Chapter_9</th>\n",
       "      <th>Chapter_10</th>\n",
       "      <th>...</th>\n",
       "      <th>Chapter_33</th>\n",
       "      <th>Chapter_34</th>\n",
       "      <th>Chapter_35</th>\n",
       "      <th>Chapter_36</th>\n",
       "      <th>Chapter_37</th>\n",
       "      <th>Chapter_38</th>\n",
       "      <th>Chapter_39</th>\n",
       "      <th>Chapter_40</th>\n",
       "      <th>Chapter_41</th>\n",
       "      <th>Chapter_42</th>\n",
       "    </tr>\n",
       "  </thead>\n",
       "  <tbody>\n",
       "    <tr>\n",
       "      <th>Tom</th>\n",
       "      <td>6</td>\n",
       "      <td>24</td>\n",
       "      <td>5</td>\n",
       "      <td>0</td>\n",
       "      <td>0</td>\n",
       "      <td>0</td>\n",
       "      <td>2</td>\n",
       "      <td>2</td>\n",
       "      <td>0</td>\n",
       "      <td>0</td>\n",
       "      <td>...</td>\n",
       "      <td>19</td>\n",
       "      <td>15</td>\n",
       "      <td>14</td>\n",
       "      <td>18</td>\n",
       "      <td>9</td>\n",
       "      <td>32</td>\n",
       "      <td>11</td>\n",
       "      <td>11</td>\n",
       "      <td>8</td>\n",
       "      <td>30</td>\n",
       "    </tr>\n",
       "    <tr>\n",
       "      <th>Jim</th>\n",
       "      <td>0</td>\n",
       "      <td>16</td>\n",
       "      <td>0</td>\n",
       "      <td>8</td>\n",
       "      <td>0</td>\n",
       "      <td>0</td>\n",
       "      <td>0</td>\n",
       "      <td>22</td>\n",
       "      <td>11</td>\n",
       "      <td>19</td>\n",
       "      <td>...</td>\n",
       "      <td>5</td>\n",
       "      <td>17</td>\n",
       "      <td>18</td>\n",
       "      <td>23</td>\n",
       "      <td>4</td>\n",
       "      <td>27</td>\n",
       "      <td>10</td>\n",
       "      <td>13</td>\n",
       "      <td>0</td>\n",
       "      <td>12</td>\n",
       "    </tr>\n",
       "    <tr>\n",
       "      <th>Huck</th>\n",
       "      <td>3</td>\n",
       "      <td>2</td>\n",
       "      <td>2</td>\n",
       "      <td>1</td>\n",
       "      <td>0</td>\n",
       "      <td>2</td>\n",
       "      <td>0</td>\n",
       "      <td>5</td>\n",
       "      <td>1</td>\n",
       "      <td>0</td>\n",
       "      <td>...</td>\n",
       "      <td>0</td>\n",
       "      <td>4</td>\n",
       "      <td>8</td>\n",
       "      <td>1</td>\n",
       "      <td>0</td>\n",
       "      <td>2</td>\n",
       "      <td>0</td>\n",
       "      <td>3</td>\n",
       "      <td>0</td>\n",
       "      <td>2</td>\n",
       "    </tr>\n",
       "  </tbody>\n",
       "</table>\n",
       "<p>3 rows × 42 columns</p>\n",
       "</div>"
      ],
      "text/plain": [
       "      Chapter_1  Chapter_2  Chapter_3  Chapter_4  Chapter_5  Chapter_6  \\\n",
       "Tom           6         24          5          0          0          0   \n",
       "Jim           0         16          0          8          0          0   \n",
       "Huck          3          2          2          1          0          2   \n",
       "\n",
       "      Chapter_7  Chapter_8  Chapter_9  Chapter_10  ...  Chapter_33  \\\n",
       "Tom           2          2          0           0  ...          19   \n",
       "Jim           0         22         11          19  ...           5   \n",
       "Huck          0          5          1           0  ...           0   \n",
       "\n",
       "      Chapter_34  Chapter_35  Chapter_36  Chapter_37  Chapter_38  Chapter_39  \\\n",
       "Tom           15          14          18           9          32          11   \n",
       "Jim           17          18          23           4          27          10   \n",
       "Huck           4           8           1           0           2           0   \n",
       "\n",
       "      Chapter_40  Chapter_41  Chapter_42  \n",
       "Tom           11           8          30  \n",
       "Jim           13           0          12  \n",
       "Huck           3           0           2  \n",
       "\n",
       "[3 rows x 42 columns]"
      ]
     },
     "execution_count": 9,
     "metadata": {},
     "output_type": "execute_result"
    }
   ],
   "source": [
    "import pandas as pd\n",
    "\n",
    "columnas = ['Chapter_'+ str(i) for i in capitulos]\n",
    "\n",
    "df = pd.DataFrame(arr_counts.T, index=personajes, columns=columnas)\n",
    "df"
   ]
  },
  {
   "cell_type": "markdown",
   "id": "entire-flood",
   "metadata": {
    "cell_id": "00002-5994f64f-3480-41c8-b355-e876f1a6c1e3",
    "deepnote_cell_height": 52.399993896484375,
    "deepnote_cell_type": "markdown"
   },
   "source": [
    "c) Export the table to a CSV file"
   ]
  },
  {
   "cell_type": "code",
   "execution_count": 10,
   "id": "0f560787",
   "metadata": {},
   "outputs": [],
   "source": [
    "df.to_csv('Counts.csv')"
   ]
  },
  {
   "cell_type": "code",
   "execution_count": 11,
   "id": "32be9470",
   "metadata": {},
   "outputs": [
    {
     "name": "stdout",
     "output_type": "stream",
     "text": [
      "Counts.csv  homework_01-solved.ipynb  void\r\n"
     ]
    }
   ],
   "source": [
    "!ls"
   ]
  },
  {
   "cell_type": "markdown",
   "id": "second-going",
   "metadata": {
    "cell_id": "00003-186a884d-066e-47b1-9225-b1c361e03d01",
    "deepnote_cell_height": 74.80000305175781,
    "deepnote_cell_type": "markdown"
   },
   "source": [
    "d) Import the saved CSV file using Pandas and plot the cumulative occurrence (cumsum) of the characters."
   ]
  },
  {
   "cell_type": "code",
   "execution_count": 12,
   "id": "7c6312a3",
   "metadata": {},
   "outputs": [
    {
     "data": {
      "text/html": [
       "<div>\n",
       "<style scoped>\n",
       "    .dataframe tbody tr th:only-of-type {\n",
       "        vertical-align: middle;\n",
       "    }\n",
       "\n",
       "    .dataframe tbody tr th {\n",
       "        vertical-align: top;\n",
       "    }\n",
       "\n",
       "    .dataframe thead th {\n",
       "        text-align: right;\n",
       "    }\n",
       "</style>\n",
       "<table border=\"1\" class=\"dataframe\">\n",
       "  <thead>\n",
       "    <tr style=\"text-align: right;\">\n",
       "      <th></th>\n",
       "      <th>Chapter_1</th>\n",
       "      <th>Chapter_2</th>\n",
       "      <th>Chapter_3</th>\n",
       "      <th>Chapter_4</th>\n",
       "      <th>Chapter_5</th>\n",
       "      <th>Chapter_6</th>\n",
       "      <th>Chapter_7</th>\n",
       "      <th>Chapter_8</th>\n",
       "      <th>Chapter_9</th>\n",
       "      <th>Chapter_10</th>\n",
       "      <th>...</th>\n",
       "      <th>Chapter_33</th>\n",
       "      <th>Chapter_34</th>\n",
       "      <th>Chapter_35</th>\n",
       "      <th>Chapter_36</th>\n",
       "      <th>Chapter_37</th>\n",
       "      <th>Chapter_38</th>\n",
       "      <th>Chapter_39</th>\n",
       "      <th>Chapter_40</th>\n",
       "      <th>Chapter_41</th>\n",
       "      <th>Chapter_42</th>\n",
       "    </tr>\n",
       "  </thead>\n",
       "  <tbody>\n",
       "    <tr>\n",
       "      <th>Tom</th>\n",
       "      <td>6</td>\n",
       "      <td>24</td>\n",
       "      <td>5</td>\n",
       "      <td>0</td>\n",
       "      <td>0</td>\n",
       "      <td>0</td>\n",
       "      <td>2</td>\n",
       "      <td>2</td>\n",
       "      <td>0</td>\n",
       "      <td>0</td>\n",
       "      <td>...</td>\n",
       "      <td>19</td>\n",
       "      <td>15</td>\n",
       "      <td>14</td>\n",
       "      <td>18</td>\n",
       "      <td>9</td>\n",
       "      <td>32</td>\n",
       "      <td>11</td>\n",
       "      <td>11</td>\n",
       "      <td>8</td>\n",
       "      <td>30</td>\n",
       "    </tr>\n",
       "    <tr>\n",
       "      <th>Jim</th>\n",
       "      <td>0</td>\n",
       "      <td>16</td>\n",
       "      <td>0</td>\n",
       "      <td>8</td>\n",
       "      <td>0</td>\n",
       "      <td>0</td>\n",
       "      <td>0</td>\n",
       "      <td>22</td>\n",
       "      <td>11</td>\n",
       "      <td>19</td>\n",
       "      <td>...</td>\n",
       "      <td>5</td>\n",
       "      <td>17</td>\n",
       "      <td>18</td>\n",
       "      <td>23</td>\n",
       "      <td>4</td>\n",
       "      <td>27</td>\n",
       "      <td>10</td>\n",
       "      <td>13</td>\n",
       "      <td>0</td>\n",
       "      <td>12</td>\n",
       "    </tr>\n",
       "    <tr>\n",
       "      <th>Huck</th>\n",
       "      <td>3</td>\n",
       "      <td>2</td>\n",
       "      <td>2</td>\n",
       "      <td>1</td>\n",
       "      <td>0</td>\n",
       "      <td>2</td>\n",
       "      <td>0</td>\n",
       "      <td>5</td>\n",
       "      <td>1</td>\n",
       "      <td>0</td>\n",
       "      <td>...</td>\n",
       "      <td>0</td>\n",
       "      <td>4</td>\n",
       "      <td>8</td>\n",
       "      <td>1</td>\n",
       "      <td>0</td>\n",
       "      <td>2</td>\n",
       "      <td>0</td>\n",
       "      <td>3</td>\n",
       "      <td>0</td>\n",
       "      <td>2</td>\n",
       "    </tr>\n",
       "  </tbody>\n",
       "</table>\n",
       "<p>3 rows × 42 columns</p>\n",
       "</div>"
      ],
      "text/plain": [
       "      Chapter_1  Chapter_2  Chapter_3  Chapter_4  Chapter_5  Chapter_6  \\\n",
       "Tom           6         24          5          0          0          0   \n",
       "Jim           0         16          0          8          0          0   \n",
       "Huck          3          2          2          1          0          2   \n",
       "\n",
       "      Chapter_7  Chapter_8  Chapter_9  Chapter_10  ...  Chapter_33  \\\n",
       "Tom           2          2          0           0  ...          19   \n",
       "Jim           0         22         11          19  ...           5   \n",
       "Huck          0          5          1           0  ...           0   \n",
       "\n",
       "      Chapter_34  Chapter_35  Chapter_36  Chapter_37  Chapter_38  Chapter_39  \\\n",
       "Tom           15          14          18           9          32          11   \n",
       "Jim           17          18          23           4          27          10   \n",
       "Huck           4           8           1           0           2           0   \n",
       "\n",
       "      Chapter_40  Chapter_41  Chapter_42  \n",
       "Tom           11           8          30  \n",
       "Jim           13           0          12  \n",
       "Huck           3           0           2  \n",
       "\n",
       "[3 rows x 42 columns]"
      ]
     },
     "execution_count": 12,
     "metadata": {},
     "output_type": "execute_result"
    }
   ],
   "source": [
    "df_1 = pd.DataFrame(data=pd.read_csv('Counts.csv',index_col=0))\n",
    "#df_1 = df_1.rename(columns={df_1.columns[0]:'Names'})\n",
    "\n",
    "df_1"
   ]
  },
  {
   "cell_type": "code",
   "execution_count": 13,
   "id": "56462f75",
   "metadata": {},
   "outputs": [
    {
     "data": {
      "image/png": "[encoded data removed]",
      "text/plain": [
       "<Figure size 432x288 with 1 Axes>"
      ]
     },
     "metadata": {
      "needs_background": "light"
     },
     "output_type": "display_data"
    }
   ],
   "source": [
    "df_2 = df_1.T.cumsum()\n",
    "\n",
    "g = df_2.plot(style='.-', grid=True, title='Cumulative ocurrence')\n"
   ]
  }
 ],
 "metadata": {
  "deepnote": {},
  "deepnote_execution_queue": [],
  "deepnote_notebook_id": "18a1e7e8-b514-460f-8688-fbdd1bc586ac",
  "kernelspec": {
   "display_name": "Python 3 (ipykernel)",
   "language": "python",
   "name": "python3"
  },
  "language_info": {
   "codemirror_mode": {
    "name": "ipython",
    "version": 3
   },
   "file_extension": ".py",
   "mimetype": "text/x-python",
   "name": "python",
   "nbconvert_exporter": "python",
   "pygments_lexer": "ipython3",
   "version": "3.8.10"
  }
 },
 "nbformat": 4,
 "nbformat_minor": 5
}
